{
 "cells": [
  {
   "cell_type": "markdown",
   "id": "c4fe4ada",
   "metadata": {},
   "source": [
    "# import libraries"
   ]
  },
  {
   "cell_type": "code",
   "execution_count": 1,
   "id": "977a8aeb",
   "metadata": {},
   "outputs": [],
   "source": [
    "import pandas as pd\n",
    "from matplotlib import pyplot as plt\n",
    "import numpy as np\n",
    "import seaborn as sns"
   ]
  },
  {
   "cell_type": "markdown",
   "id": "cc854c7f",
   "metadata": {},
   "source": [
    "# read file"
   ]
  },
  {
   "cell_type": "code",
   "execution_count": 2,
   "id": "63356684",
   "metadata": {},
   "outputs": [
    {
     "name": "stdout",
     "output_type": "stream",
     "text": [
      "{'Healthy', 'Disease-1', 'Disease-3', 'Disease-2'}\n"
     ]
    },
    {
     "data": {
      "image/png": "[encoded data removed]",
      "text/plain": [
       "<Figure size 432x288 with 1 Axes>"
      ]
     },
     "metadata": {
      "needs_background": "light"
     },
     "output_type": "display_data"
    }
   ],
   "source": [
    "df = pd.read_csv(\"challenge_1_gut_microbiome_data.csv\", index_col=False)\n",
    "\n",
    "#get the bacteria info of all samples\n",
    "X= df.iloc[:, 1:1095]\n",
    "\n",
    "#get the class info of all samples\n",
    "Y = df.iloc[:, 1095]\n",
    "\n",
    "classes = set(list(df['disease']))\n",
    "print(classes)\n",
    "plt.hist(list(Y))\n",
    "plt.savefig('barchart.png')"
   ]
  },
  {
   "cell_type": "markdown",
   "id": "4dcde225",
   "metadata": {},
   "source": [
    "# check if any rows are non-zero"
   ]
  },
  {
   "cell_type": "code",
   "execution_count": 3,
   "id": "bee9bce9",
   "metadata": {},
   "outputs": [
    {
     "name": "stdout",
     "output_type": "stream",
     "text": [
      "True\n"
     ]
    }
   ],
   "source": [
    "m2 = (df != 0).any()\n",
    "a = m2.index[m2]\n",
    "\n",
    "#check if any column is dropped\n",
    "print(len(a) == len(df.columns))"
   ]
  },
  {
   "cell_type": "markdown",
   "id": "87cf9ea2",
   "metadata": {},
   "source": [
    "no rows were all zero"
   ]
  },
  {
   "cell_type": "markdown",
   "id": "329270c9",
   "metadata": {},
   "source": [
    "# Count number of occurrences of each bacteria in samples"
   ]
  },
  {
   "cell_type": "code",
   "execution_count": 4,
   "id": "e9cbbd42",
   "metadata": {},
   "outputs": [
    {
     "data": {
      "image/png": "[encoded data removed]",
      "text/plain": [
       "<Figure size 432x288 with 1 Axes>"
      ]
     },
     "metadata": {
      "needs_background": "light"
     },
     "output_type": "display_data"
    }
   ],
   "source": [
    "counts = []\n",
    "for i in range(1, df.shape[1] - 1): #iterate over columns of dataframe\n",
    "    counts.append(sum(df.iloc[:, i] > 0)) #append number of values greater than 0\n",
    "\n",
    "#Generate Histogram\n",
    "sns.histplot(counts, log_scale = True, bins = 22, edgecolor = 'white', alpha = 0.5)\n",
    "sns.despine()"
   ]
  },
  {
   "cell_type": "markdown",
   "id": "f4d533ce",
   "metadata": {},
   "source": [
    "The number of times a bacteria occurs in multiple samples is low for most bacterias. We will further analyze this information below."
   ]
  },
  {
   "cell_type": "markdown",
   "id": "f5fc0807",
   "metadata": {},
   "source": [
    "# check how many times Bacteria occur at least *threshold* number of samples"
   ]
  },
  {
   "cell_type": "code",
   "execution_count": 5,
   "id": "8ad9a372",
   "metadata": {},
   "outputs": [
    {
     "data": {
      "text/plain": [
       "427"
      ]
     },
     "execution_count": 5,
     "metadata": {},
     "output_type": "execute_result"
    }
   ],
   "source": [
    "threshold = 20\n",
    "\n",
    "bacteria_count = []\n",
    "for i in range(1, 1095, 1):\n",
    "    features = np.array(df.iloc[:, i])\n",
    "    bacteria_count.append(np.count_nonzero(features))\n",
    "    \n",
    "bacteria_count_thresholded = []\n",
    "for i in range(len(bacteria_count)):\n",
    "    if bacteria_count[i] > threshold:\n",
    "        bacteria_count_thresholded.append(i)\n",
    "\n",
    "bacteria_count_thresholded_pos = []\n",
    "for i in bacteria_count_thresholded:\n",
    "    bacteria_count_thresholded_pos.append('Bacteria-{}'.format(i+1))\n",
    "\n",
    "bact = pd.DataFrame(bacteria_count_thresholded_pos)\n",
    "len(bact)"
   ]
  },
  {
   "cell_type": "markdown",
   "id": "0ad861d2",
   "metadata": {},
   "source": [
    "# check how many values are non-zero in the feature space (bacteria counts)"
   ]
  },
  {
   "cell_type": "code",
   "execution_count": 6,
   "id": "260db817",
   "metadata": {},
   "outputs": [
    {
     "data": {
      "text/plain": [
       "6.2152089375962065"
      ]
     },
     "execution_count": 6,
     "metadata": {},
     "output_type": "execute_result"
    }
   ],
   "source": [
    "X.astype(bool).sum(axis=0).sum() /(len(X)* len(X.columns)) * 100"
   ]
  },
  {
   "cell_type": "markdown",
   "id": "9b3b38f0",
   "metadata": {},
   "source": [
    "6.22% of the values are non-zero. This is a sparse matrix."
   ]
  },
  {
   "cell_type": "markdown",
   "id": "1af6b5bd",
   "metadata": {},
   "source": [
    "# number of bacteria represented in different classes"
   ]
  },
  {
   "cell_type": "code",
   "execution_count": 7,
   "id": "1697e0be",
   "metadata": {},
   "outputs": [],
   "source": [
    "disease_1 = df[df['disease'] == 'Disease-1']\n",
    "disease_2= df[df['disease'] == 'Disease-2']\n",
    "disease_3= df[df['disease'] == 'Disease-3']\n",
    "healthy= df[df['disease'] == 'Healthy']"
   ]
  },
  {
   "cell_type": "code",
   "execution_count": 8,
   "id": "bae9e579",
   "metadata": {},
   "outputs": [
    {
     "data": {
      "text/plain": [
       "<BarContainer object of 4 artists>"
      ]
     },
     "execution_count": 8,
     "metadata": {},
     "output_type": "execute_result"
    },
    {
     "data": {
      "image/png": "[encoded data removed]",
      "text/plain": [
       "<Figure size 432x288 with 1 Axes>"
      ]
     },
     "metadata": {
      "needs_background": "light"
     },
     "output_type": "display_data"
    }
   ],
   "source": [
    "threshold = 20\n",
    "\n",
    "disease_1_count = []\n",
    "disease_2_count = []\n",
    "disease_3_count = []\n",
    "healthy_count = []\n",
    "\n",
    "for i in range(1, 1095, 1):\n",
    "    bacteria_i_diseases_1 = np.array(disease_1.iloc[:, i])\n",
    "    bacteria_i_diseases_2 = np.array(disease_2.iloc[:, i])\n",
    "    bacteria_i_diseases_3 = np.array(disease_3.iloc[:, i])\n",
    "    bacteria_i_healthy = np.array(healthy.iloc[:, i])\n",
    "   \n",
    "    disease_1_count.append(np.count_nonzero(bacteria_i_diseases_1))\n",
    "    disease_2_count.append(np.count_nonzero(bacteria_i_diseases_2))\n",
    "    disease_3_count.append(np.count_nonzero(bacteria_i_diseases_3))\n",
    "    healthy_count.append(np.count_nonzero(bacteria_i_healthy))\n",
    "\n",
    "disease_1_filtered = []\n",
    "for i in disease_1_count:\n",
    "    if i > threshold:\n",
    "        disease_1_filtered.append(i)\n",
    "        \n",
    "disease_2_filtered = []\n",
    "for i in disease_2_count:\n",
    "    if i > threshold:\n",
    "        disease_2_filtered.append(i)\n",
    "\n",
    "disease_3_filtered = []\n",
    "for i in disease_3_count:\n",
    "    if i > threshold:\n",
    "        disease_3_filtered.append(i)\n",
    "\n",
    "healthy_filtered = []\n",
    "for i in healthy_count:\n",
    "    if i > threshold:\n",
    "        healthy_filtered.append(i)\n",
    "        \n",
    "class_thresholded = {'disease_1': len(disease_1_filtered), 'disease_2': len(disease_2_filtered), 'disease_3': len(disease_3_filtered),\n",
    "                    'healthy': len(healthy_filtered)}\n",
    "\n",
    "plt.bar(class_thresholded.keys(), class_thresholded.values(), color='g')"
   ]
  },
  {
   "cell_type": "markdown",
   "id": "fb9ed8fc",
   "metadata": {},
   "source": [
    "we can see that every class do not have all bacteria represented in different samples"
   ]
  },
  {
   "cell_type": "markdown",
   "id": "c10e7e75",
   "metadata": {},
   "source": [
    "# check how many bacteria are comparatively well represented across multiple classes"
   ]
  },
  {
   "cell_type": "code",
   "execution_count": 9,
   "id": "bc5e589b",
   "metadata": {},
   "outputs": [
    {
     "data": {
      "text/plain": [
       "203"
      ]
     },
     "execution_count": 9,
     "metadata": {},
     "output_type": "execute_result"
    }
   ],
   "source": [
    "bacteria_index = []\n",
    "for i in range(len(bacteria_count)):\n",
    "    if (disease_1_count[i] > threshold) and (disease_2_count[i] > threshold) and (disease_3_count[i] > threshold) and (healthy_count[i] > threshold):\n",
    "        bacteria_index.append(i)\n",
    "len(bacteria_index)"
   ]
  },
  {
   "cell_type": "markdown",
   "id": "7b0d76b7",
   "metadata": {},
   "source": [
    "only 203 bacteria are expressed in at least 20 samples across multiple classes"
   ]
  },
  {
   "cell_type": "markdown",
   "id": "07660604",
   "metadata": {},
   "source": [
    "# EDA decision: High sparsity present in the data"
   ]
  },
  {
   "cell_type": "markdown",
   "id": "e56ed57b",
   "metadata": {},
   "source": [
    "because the data is highly sparse, we would need to work with models that can handle high sparsity. Decision trees are best for handling sparsity. The tree based algorithms have evolved over the years. \n",
    "\n",
    "Among the family of tree-based algorithms the best one is Xgboost. It stands for Extreme Gradient Boosting. For that reason, we have decided to go for this model. Another reason for choosing this model is that we can interpret tree-based algorithms easily. So we can interpret our results and get insight into the problem (a main reason we do not go for dimensionality reduction approaches). "
   ]
  }
 ],
 "metadata": {
  "kernelspec": {
   "display_name": "Python 3 (ipykernel)",
   "language": "python",
   "name": "python3"
  },
  "language_info": {
   "codemirror_mode": {
    "name": "ipython",
    "version": 3
   },
   "file_extension": ".py",
   "mimetype": "text/x-python",
   "name": "python",
   "nbconvert_exporter": "python",
   "pygments_lexer": "ipython3",
   "version": "3.7.11"
  }
 },
 "nbformat": 4,
 "nbformat_minor": 5
}
