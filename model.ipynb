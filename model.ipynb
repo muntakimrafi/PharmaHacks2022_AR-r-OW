{
 "cells": [
  {
   "cell_type": "markdown",
   "id": "500af360",
   "metadata": {},
   "source": [
    "# import libraries"
   ]
  },
  {
   "cell_type": "code",
   "execution_count": 1,
   "id": "f69ba621",
   "metadata": {},
   "outputs": [],
   "source": [
    "import numpy as np\n",
    "import pandas as pd\n",
    "from matplotlib import pyplot as plt\n",
    "import sklearn\n",
    "from sklearn import metrics\n",
    "import xgboost as xgb\n",
    "from tqdm import tqdm\n",
    "import warnings\n",
    "warnings.filterwarnings('ignore')\n",
    "import numpy as np\n",
    "import pandas as pd\n",
    "import joblib\n",
    "from sklearn.model_selection import RandomizedSearchCV, GridSearchCV\n",
    "from sklearn.metrics import roc_auc_score, accuracy_score, f1_score, cohen_kappa_score, confusion_matrix\n",
    "from xgboost import XGBClassifier\n",
    "from sklearn.model_selection import train_test_split"
   ]
  },
  {
   "cell_type": "markdown",
   "id": "9257a260",
   "metadata": {},
   "source": [
    "# read the data"
   ]
  },
  {
   "cell_type": "code",
   "execution_count": 2,
   "id": "8d47a629",
   "metadata": {},
   "outputs": [],
   "source": [
    "df = pd.read_csv(\"Samplenormalized_train_data.csv\", index_col=False)\n",
    "X = df.iloc[:, 2:1096]\n",
    "Y = df.iloc[:, 1096]"
   ]
  },
  {
   "cell_type": "markdown",
   "id": "33edc827",
   "metadata": {},
   "source": [
    "# use weighting to provide higher weight to class with fewer samples"
   ]
  },
  {
   "cell_type": "code",
   "execution_count": 3,
   "id": "a8546ec6",
   "metadata": {},
   "outputs": [],
   "source": [
    "w = [len(Y) / len(Y[Y == 'Healthy']), len(Y) / len(Y[Y == 'Disease-1']), len(Y) / len(Y[Y == 'Disease-2']),\n",
    "                                                   len(Y) / len(Y[Y == 'Disease-3'])]"
   ]
  },
  {
   "cell_type": "markdown",
   "id": "1dfa7df7",
   "metadata": {},
   "source": [
    "# assign labels to classes"
   ]
  },
  {
   "cell_type": "code",
   "execution_count": 4,
   "id": "1ff26055",
   "metadata": {},
   "outputs": [],
   "source": [
    "Y[Y == 'Healthy'] = 0\n",
    "Y[Y == 'Disease-1'] = 1\n",
    "Y[Y == 'Disease-2'] = 2\n",
    "Y[Y == 'Disease-3'] = 3"
   ]
  },
  {
   "cell_type": "markdown",
   "id": "f111d1b9",
   "metadata": {},
   "source": [
    "# prepare data for xgboost"
   ]
  },
  {
   "cell_type": "code",
   "execution_count": 5,
   "id": "2fc85373",
   "metadata": {},
   "outputs": [],
   "source": [
    "import xgboost as xgb\n",
    "#create data matrix\n",
    "data_matrix = xgb.DMatrix(data = X, label = Y)\n",
    "\n",
    "# create train and validation split\n",
    "X_train, X_val, y_train, y_val = train_test_split(X, Y, test_size = 0.2, random_state = 0)\n",
    "# the weight for each class needs to be assigned to the samples individually in xgboost. So we create a weight matrix\n",
    "#that is the same length as samples in the train data\n",
    "convert_to_weight = {'0': w[0], '1': w[1], '2':w[2]*10, '3': w[3]}\n",
    "weight_matrix = [convert_to_weight[str(i)] for i in y_train]"
   ]
  },
  {
   "cell_type": "markdown",
   "id": "57531b07",
   "metadata": {},
   "source": [
    "# hyperparameter tuning"
   ]
  },
  {
   "cell_type": "code",
   "execution_count": 6,
   "id": "130e0ed6",
   "metadata": {},
   "outputs": [],
   "source": [
    "# params = {\n",
    "#         'n_estimators': [50, 100, 150, 200],\n",
    "#         'max_depth': [6, 8, 10],\n",
    "#         'learning_rate': [0.05, 0.1, 0.2],\n",
    "#         'gamma': [0, 0.5, 1],\n",
    "#         'min_child_weight': [1, 5, 10],\n",
    "#         'subsample': [0.6, 0.8, 1],\n",
    "#         'colsample_by_tree': [0.6, 0.8, 1]}\n",
    "\n",
    "# xgb = XGBClassifier(objective='multi:softprob', silent=True, nthread=6)\n",
    "# evaluation = [( X_train, y_train), ( X_val, y_val)]\n",
    "\n",
    "# grid_search = GridSearchCV(estimator = xgb, param_grid=params, verbose=3, scoring = 'f1_weighted')\n",
    "# grid_search.fit(X_train, y_train, eval_set=evaluation, eval_metric=\"mlogloss\", early_stopping_rounds=10, sample_weight = weight_matrix)"
   ]
  },
  {
   "cell_type": "markdown",
   "id": "3817ffed",
   "metadata": {},
   "source": [
    "Point to be noted, we could not select the complete hyperparameter space we wanted to explore. Therefore, we limited it to manual search of the features we thought was significant enough and seleced the best performing one. "
   ]
  },
  {
   "cell_type": "markdown",
   "id": "dccdf942",
   "metadata": {},
   "source": [
    "# hyperparameter selected"
   ]
  },
  {
   "cell_type": "code",
   "execution_count": null,
   "id": "2bb48782",
   "metadata": {},
   "outputs": [
    {
     "name": "stdout",
     "output_type": "stream",
     "text": [
      "[07:08:53] WARNING: ../src/learner.cc:576: \n",
      "Parameters: { \"n_threads\" } might not be used.\n",
      "\n",
      "  This could be a false alarm, with some parameters getting used by language bindings but\n",
      "  then being mistakenly passed down to XGBoost core, or some parameter actually being used\n",
      "  but getting flagged wrongly here. Please open an issue if you find any such cases.\n",
      "\n",
      "\n",
      "[0]\tvalidation_0-mlogloss:1.34363\tvalidation_1-mlogloss:1.35466\n",
      "[1]\tvalidation_0-mlogloss:1.30029\tvalidation_1-mlogloss:1.32114\n",
      "[2]\tvalidation_0-mlogloss:1.26805\tvalidation_1-mlogloss:1.30200\n",
      "[3]\tvalidation_0-mlogloss:1.23843\tvalidation_1-mlogloss:1.28154\n"
     ]
    }
   ],
   "source": [
    "#selected parameters\n",
    "params = {\n",
    "            'objective':'multi:softprob',\n",
    "            'max_depth': 8,\n",
    "            'learning_rate': 0.1,\n",
    "            'n_estimators':200,\n",
    "            'n_threads' : 8,\n",
    "            'colsample_bytree': 0.8,\n",
    "            'alpha': 10\n",
    "        }\n",
    "           \n",
    "# initialize the classifier \n",
    "xgb_clf = XGBClassifier(**params)\n",
    "\n",
    "#initialize data\n",
    "evaluation = [( X_train, y_train), ( X_val, y_val)]\n",
    "\n",
    "#fit the model\n",
    "xgb_clf.fit(X_train, y_train, eval_set=evaluation, eval_metric=\"mlogloss\", early_stopping_rounds=100, sample_weight = weight_matrix)"
   ]
  },
  {
   "cell_type": "markdown",
   "id": "f5ede54b",
   "metadata": {},
   "source": [
    "# check performance in validation data"
   ]
  },
  {
   "cell_type": "code",
   "execution_count": null,
   "id": "266ff65e",
   "metadata": {},
   "outputs": [],
   "source": [
    "#make prediction\n",
    "y_pred = xgb_clf.predict(X_val)\n",
    "\n",
    "print('weighted f1 score ', f1_score(list(y_val), list(y_pred), average = 'weighted'))\n",
    "print('per classs f1 score ', f1_score(list(y_val), list(y_pred), average = None))\n",
    "print('confusion matrix \\n', confusion_matrix(list(y_val), list(y_pred)))\n",
    "print('cohen cappa score ', cohen_kappa_score(list(y_val), list(y_pred)))"
   ]
  },
  {
   "cell_type": "markdown",
   "id": "dd90f689",
   "metadata": {},
   "source": [
    "# save model "
   ]
  },
  {
   "cell_type": "code",
   "execution_count": null,
   "id": "b0d2a984",
   "metadata": {},
   "outputs": [],
   "source": [
    "joblib.dump(xgb_clf, 'model_final.pkl')"
   ]
  },
  {
   "cell_type": "markdown",
   "id": "aa810569",
   "metadata": {},
   "source": [
    "# bacterias which are informative for the prediciton"
   ]
  },
  {
   "cell_type": "code",
   "execution_count": null,
   "id": "9e3f057a",
   "metadata": {},
   "outputs": [],
   "source": [
    "feature_important = xgb_clf.get_booster().get_score(importance_type='weight')\n",
    "keys = list(feature_important.keys())\n",
    "values = list(feature_important.values())\n",
    "\n",
    "data = pd.DataFrame(data=values, index=keys, columns=[\"score\"]).sort_values(by = \"score\", ascending=False)\n",
    "print(len(data))"
   ]
  },
  {
   "cell_type": "markdown",
   "id": "2891ea65",
   "metadata": {},
   "source": [
    "443 bacterias were deemed important by the model."
   ]
  },
  {
   "cell_type": "markdown",
   "id": "7e8a0f6f",
   "metadata": {},
   "source": [
    "# test data prediction"
   ]
  },
  {
   "cell_type": "code",
   "execution_count": null,
   "id": "f479191e",
   "metadata": {},
   "outputs": [],
   "source": [
    "#read and process the test data the same way as train data\n",
    "\n",
    "df = pd.read_csv(\"Samplenormalized_test_data.csv\", index_col=False)\n",
    "X_test = df.iloc[:, 2:1096]\n",
    "Y_test = df.iloc[:, 1096]\n",
    "\n",
    "Y_test[Y_test == 'Healthy'] = 0\n",
    "Y_test[Y_test == 'Disease-1'] = 1\n",
    "Y_test[Y_test == 'Disease-2'] = 2\n",
    "Y_test[Y_test == 'Disease-3'] = 3"
   ]
  },
  {
   "cell_type": "code",
   "execution_count": null,
   "id": "7dd2cd9f",
   "metadata": {},
   "outputs": [],
   "source": [
    "model = joblib.load(\"model_file_name.pkl\")\n",
    "y_pred = model.predict(X_test)\n",
    "\n",
    "from sklearn.metrics import accuracy_score\n",
    "from sklearn.metrics import f1_score\n",
    "from sklearn.metrics import precision_recall_fscore_support\n",
    "from sklearn.metrics import cohen_kappa_score, confusion_matrix\n",
    "\n",
    "print('weighted f1 score ', f1_score(list(Y_test), list(y_pred), average = 'weighted'))\n",
    "print('per classs f1 score ', f1_score(list(Y_test), list(y_pred), average = None))\n",
    "print('confusion matrix \\n', confusion_matrix(list(Y_test), list(y_pred)))\n",
    "print('cohen cappa score ', cohen_kappa_score(list(Y_test), list(y_pred)))"
   ]
  },
  {
   "cell_type": "markdown",
   "id": "59d15e31",
   "metadata": {},
   "source": [
    "# differentially expressed bacteria"
   ]
  },
  {
   "cell_type": "code",
   "execution_count": null,
   "id": "1697c153",
   "metadata": {},
   "outputs": [],
   "source": [
    "#reading the csv file created in R. need some string formating as R doesn't read hyphens\n",
    "diff_bacts = pd.read_csv('DEB_strictfiltered_training.csv')\n",
    "diff_bacts = list(diff_bacts.iloc[:,0])\n",
    "diff_bacts = ['Bacteria.' + bact.split('Bacteria.')[1] for bact in diff_bacts]"
   ]
  },
  {
   "cell_type": "markdown",
   "id": "c531e867",
   "metadata": {},
   "source": [
    "### compare the differenetially enriched bacteria and bacteria found to be important by our xgboost model"
   ]
  },
  {
   "cell_type": "code",
   "execution_count": null,
   "id": "71553975",
   "metadata": {},
   "outputs": [],
   "source": [
    "count = 0\n",
    "for bact in diff_bacts:\n",
    "    if bact not in keys:\n",
    "        count += 1\n",
    "        print('found a enriched bacteria that is not identified by the model')\n",
    "print(count)"
   ]
  },
  {
   "cell_type": "markdown",
   "id": "48f8e4d1",
   "metadata": {},
   "source": [
    "So all the bacteria found to be important by xgboost are enriched."
   ]
  },
  {
   "cell_type": "markdown",
   "id": "5d320f27",
   "metadata": {},
   "source": [
    "# What if we only use the enriched bacteria to train the model (6.5% data)?"
   ]
  },
  {
   "cell_type": "markdown",
   "id": "6293c672",
   "metadata": {},
   "source": [
    "Now we see whether we can just use this statistically significant bacteria to train the model. The motivation is that if we find the bacteria which are required to classify between different classes it would reduce our screening space. Also it would reduce the complexity of the model."
   ]
  },
  {
   "cell_type": "code",
   "execution_count": null,
   "id": "59df16ef",
   "metadata": {},
   "outputs": [],
   "source": [
    "df = pd.read_csv(\"Samplenormalized_train_data.csv\", index_col=False)\n",
    "X = df[diff_bacts]\n",
    "Y = df.iloc[:, 1096]\n",
    "\n",
    "# the weight for each class needs to be assigned to the samples individually in xgboost. So we create a weight matrix\n",
    "#that is the same length as samples in the train data\n",
    "convert_to_weight = {'0': w[0], '1': w[1], '2':w[2]*10, '3': w[3]}\n",
    "weight_matrix = [convert_to_weight[str(i)] for i in y_train]\n",
    "\n",
    "Y[Y == 'Healthy'] = 0\n",
    "Y[Y == 'Disease-1'] = 1\n",
    "Y[Y == 'Disease-2'] = 2\n",
    "Y[Y == 'Disease-3'] = 3\n",
    "\n",
    "#create data matrix\n",
    "import xgboost as xgb\n",
    "data_matrix = xgb.DMatrix(data = X, label = Y)\n",
    "\n",
    "# create train and validation split\n",
    "X_train, X_val, y_train, y_val = train_test_split(X, Y, test_size = 0.2, random_state = 0)\n",
    "\n",
    "\n",
    "#selected parameters\n",
    "params = {\n",
    "            'objective':'multi:softprob',\n",
    "            'max_depth': 8,\n",
    "            'learning_rate': 0.1,\n",
    "            'n_estimators':200,\n",
    "            'n_threads' : 8,\n",
    "            'colsample_bytree': 0.8,\n",
    "            'alpha': 10\n",
    "        }\n",
    "           \n",
    "# initialize the classifier \n",
    "xgb_clf = XGBClassifier(**params)\n",
    "\n",
    "#initialize data\n",
    "evaluation = [( X_train, y_train), ( X_val, y_val)]\n",
    "\n",
    "#fit the model\n",
    "xgb_clf.fit(X_train, y_train, eval_set=evaluation, eval_metric=\"mlogloss\", early_stopping_rounds=100, sample_weight = weight_matrix)\n",
    "\n",
    "#save model\n",
    "joblib.dump(xgb_clf, 'model_71_bacteria.pkl')\n",
    "\n",
    "#read test data and process\n",
    "df = pd.read_csv(\"Samplenormalized_test_data.csv\", index_col=False)\n",
    "X_test = df[diff_bacts]\n",
    "\n",
    "Y_test = df.iloc[:, 1096]\n",
    "\n",
    "Y_test[Y_test == 'Healthy'] = 0\n",
    "Y_test[Y_test == 'Disease-1'] = 1\n",
    "Y_test[Y_test == 'Disease-2'] = 2\n",
    "Y_test[Y_test == 'Disease-3'] = 3\n",
    "\n",
    "y_pred = xgb_clf.predict(X_test)"
   ]
  },
  {
   "cell_type": "code",
   "execution_count": null,
   "id": "8a6f6883",
   "metadata": {},
   "outputs": [],
   "source": [
    "print('weighted f1 score ', f1_score(list(Y_test), list(y_pred), average = 'weighted'))\n",
    "print('per classs f1 score ', f1_score(list(Y_test), list(y_pred), average = None))\n",
    "print('confusion matrix \\n', confusion_matrix(list(Y_test), list(y_pred)))\n",
    "print('cohen cappa score ', cohen_kappa_score(list(Y_test), list(y_pred)))"
   ]
  },
  {
   "cell_type": "markdown",
   "id": "2b8e7744",
   "metadata": {},
   "source": [
    "### we have been able to achieve comparable performance using only 71 bacteria using differentially enrichment analysis"
   ]
  }
 ],
 "metadata": {
  "kernelspec": {
   "display_name": "Python 3 (ipykernel)",
   "language": "python",
   "name": "python3"
  },
  "language_info": {
   "codemirror_mode": {
    "name": "ipython",
    "version": 3
   },
   "file_extension": ".py",
   "mimetype": "text/x-python",
   "name": "python",
   "nbconvert_exporter": "python",
   "pygments_lexer": "ipython3",
   "version": "3.7.11"
  }
 },
 "nbformat": 4,
 "nbformat_minor": 5
}
