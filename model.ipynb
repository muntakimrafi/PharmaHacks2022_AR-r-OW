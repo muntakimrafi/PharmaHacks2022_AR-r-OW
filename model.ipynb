{
 "cells": [
  {
   "cell_type": "markdown",
   "id": "e15a9e76",
   "metadata": {},
   "source": [
    "# import libraries"
   ]
  },
  {
   "cell_type": "code",
   "execution_count": 1,
   "id": "43d1e5d8",
   "metadata": {},
   "outputs": [],
   "source": [
    "import numpy as np\n",
    "import pandas as pd\n",
    "from matplotlib import pyplot as plt\n",
    "import sklearn\n",
    "from sklearn import metrics\n",
    "import xgboost as xgb\n",
    "from tqdm import tqdm\n",
    "import warnings\n",
    "warnings.filterwarnings('ignore')\n",
    "import numpy as np\n",
    "import pandas as pd\n",
    "import joblib\n",
    "from sklearn.model_selection import RandomizedSearchCV, GridSearchCV\n",
    "from sklearn.metrics import roc_auc_score, accuracy_score, f1_score, cohen_kappa_score, confusion_matrix\n",
    "from xgboost import XGBClassifier\n",
    "from sklearn.model_selection import train_test_split"
   ]
  },
  {
   "cell_type": "markdown",
   "id": "0e55fe70",
   "metadata": {},
   "source": [
    "# read the data"
   ]
  },
  {
   "cell_type": "code",
   "execution_count": 2,
   "id": "f5ad254b",
   "metadata": {},
   "outputs": [],
   "source": [
    "df = pd.read_csv(\"PharmaHacks2022-master/Samplenormalized_train_data.csv\", index_col=False)\n",
    "X = df.iloc[:, 2:1096]\n",
    "Y = df.iloc[:, 1096]"
   ]
  },
  {
   "cell_type": "markdown",
   "id": "88f208fb",
   "metadata": {},
   "source": [
    "# use weighting to provide higher weight to class with fewer samples"
   ]
  },
  {
   "cell_type": "code",
   "execution_count": 3,
   "id": "77bc33fa",
   "metadata": {},
   "outputs": [],
   "source": [
    "w = [len(Y) / len(Y[Y == 'Healthy']), len(Y) / len(Y[Y == 'Disease-1']), len(Y) / len(Y[Y == 'Disease-2']),\n",
    "                                                   len(Y) / len(Y[Y == 'Disease-3'])]"
   ]
  },
  {
   "cell_type": "markdown",
   "id": "0c9ce08d",
   "metadata": {},
   "source": [
    "# assign labels to classes"
   ]
  },
  {
   "cell_type": "code",
   "execution_count": 4,
   "id": "cfe6312b",
   "metadata": {},
   "outputs": [],
   "source": [
    "Y[Y == 'Healthy'] = 0\n",
    "Y[Y == 'Disease-1'] = 1\n",
    "Y[Y == 'Disease-2'] = 2\n",
    "Y[Y == 'Disease-3'] = 3"
   ]
  },
  {
   "cell_type": "markdown",
   "id": "817c47af",
   "metadata": {},
   "source": [
    "# prepare data for xgboost"
   ]
  },
  {
   "cell_type": "code",
   "execution_count": 5,
   "id": "7d50b2f4",
   "metadata": {},
   "outputs": [],
   "source": [
    "import xgboost as xgb\n",
    "#create data matrix\n",
    "data_matrix = xgb.DMatrix(data = X, label = Y)\n",
    "\n",
    "# create train and validation split\n",
    "X_train, X_val, y_train, y_val = train_test_split(X, Y, test_size = 0.2, random_state = 0)\n",
    "# the weight for each class needs to be assigned to the samples individually in xgboost. So we create a weight matrix\n",
    "#that is the same length as samples in the train data\n",
    "convert_to_weight = {'0': w[0], '1': w[1], '2':w[2]*10, '3': w[3]}\n",
    "weight_matrix = [convert_to_weight[str(i)] for i in y_train]"
   ]
  },
  {
   "cell_type": "markdown",
   "id": "6c8ba37d",
   "metadata": {},
   "source": [
    "# hyperparameter tuning"
   ]
  },
  {
   "cell_type": "code",
   "execution_count": 6,
   "id": "8ab5d352",
   "metadata": {},
   "outputs": [],
   "source": [
    "# params = {\n",
    "#         'n_estimators': [50, 100, 150, 200],\n",
    "#         'max_depth': [6, 8, 10],\n",
    "#         'learning_rate': [0.05, 0.1, 0.2],\n",
    "#         'gamma': [0, 0.5, 1],\n",
    "#         'min_child_weight': [1, 5, 10],\n",
    "#         'subsample': [0.6, 0.8, 1],\n",
    "#         'colsample_by_tree': [0.6, 0.8, 1]}\n",
    "\n",
    "# xgb = XGBClassifier(objective='multi:softprob', silent=True, nthread=6)\n",
    "# evaluation = [( X_train, y_train), ( X_val, y_val)]\n",
    "\n",
    "# grid_search = GridSearchCV(estimator = xgb, param_grid=params, verbose=3, scoring = 'f1_weighted')\n",
    "# grid_search.fit(X_train, y_train, eval_set=evaluation, eval_metric=\"mlogloss\", early_stopping_rounds=10, sample_weight = weight_matrix)"
   ]
  },
  {
   "cell_type": "markdown",
   "id": "59ba9522",
   "metadata": {},
   "source": [
    "Point to be noted, we could not select the complete hyperparameter space we wanted to explore. Therefore, we limited it to manual search of the features we thought was significant enough and seleced the best performing one. "
   ]
  },
  {
   "cell_type": "markdown",
   "id": "e9bb21d8",
   "metadata": {},
   "source": [
    "# hyperparameter selected"
   ]
  },
  {
   "cell_type": "code",
   "execution_count": null,
   "id": "cd05e264",
   "metadata": {},
   "outputs": [
    {
     "name": "stdout",
     "output_type": "stream",
     "text": [
      "[07:04:28] WARNING: ../src/learner.cc:576: \n",
      "Parameters: { \"n_threads\" } might not be used.\n",
      "\n",
      "  This could be a false alarm, with some parameters getting used by language bindings but\n",
      "  then being mistakenly passed down to XGBoost core, or some parameter actually being used\n",
      "  but getting flagged wrongly here. Please open an issue if you find any such cases.\n",
      "\n",
      "\n",
      "[0]\tvalidation_0-mlogloss:1.34363\tvalidation_1-mlogloss:1.35466\n",
      "[1]\tvalidation_0-mlogloss:1.30029\tvalidation_1-mlogloss:1.32114\n",
      "[2]\tvalidation_0-mlogloss:1.26805\tvalidation_1-mlogloss:1.30200\n",
      "[3]\tvalidation_0-mlogloss:1.23843\tvalidation_1-mlogloss:1.28154\n",
      "[4]\tvalidation_0-mlogloss:1.20992\tvalidation_1-mlogloss:1.26197\n",
      "[5]\tvalidation_0-mlogloss:1.19068\tvalidation_1-mlogloss:1.25127\n",
      "[6]\tvalidation_0-mlogloss:1.16615\tvalidation_1-mlogloss:1.23641\n",
      "[7]\tvalidation_0-mlogloss:1.14353\tvalidation_1-mlogloss:1.22386\n",
      "[8]\tvalidation_0-mlogloss:1.12153\tvalidation_1-mlogloss:1.21046\n",
      "[9]\tvalidation_0-mlogloss:1.10092\tvalidation_1-mlogloss:1.19927\n",
      "[10]\tvalidation_0-mlogloss:1.07747\tvalidation_1-mlogloss:1.18604\n",
      "[11]\tvalidation_0-mlogloss:1.05895\tvalidation_1-mlogloss:1.17522\n",
      "[12]\tvalidation_0-mlogloss:1.03684\tvalidation_1-mlogloss:1.15930\n",
      "[13]\tvalidation_0-mlogloss:1.01284\tvalidation_1-mlogloss:1.14468\n",
      "[14]\tvalidation_0-mlogloss:0.98965\tvalidation_1-mlogloss:1.12977\n",
      "[15]\tvalidation_0-mlogloss:0.96916\tvalidation_1-mlogloss:1.11726\n",
      "[16]\tvalidation_0-mlogloss:0.94350\tvalidation_1-mlogloss:1.10099\n",
      "[17]\tvalidation_0-mlogloss:0.92740\tvalidation_1-mlogloss:1.09394\n",
      "[18]\tvalidation_0-mlogloss:0.90465\tvalidation_1-mlogloss:1.08026\n",
      "[19]\tvalidation_0-mlogloss:0.88574\tvalidation_1-mlogloss:1.07141\n",
      "[20]\tvalidation_0-mlogloss:0.85878\tvalidation_1-mlogloss:1.05544\n",
      "[21]\tvalidation_0-mlogloss:0.84083\tvalidation_1-mlogloss:1.04530\n",
      "[22]\tvalidation_0-mlogloss:0.81562\tvalidation_1-mlogloss:1.02992\n",
      "[23]\tvalidation_0-mlogloss:0.79346\tvalidation_1-mlogloss:1.01718\n",
      "[24]\tvalidation_0-mlogloss:0.77279\tvalidation_1-mlogloss:1.00404\n",
      "[25]\tvalidation_0-mlogloss:0.75149\tvalidation_1-mlogloss:0.99133\n",
      "[26]\tvalidation_0-mlogloss:0.72892\tvalidation_1-mlogloss:0.98025\n",
      "[27]\tvalidation_0-mlogloss:0.70694\tvalidation_1-mlogloss:0.96891\n",
      "[28]\tvalidation_0-mlogloss:0.68634\tvalidation_1-mlogloss:0.95643\n",
      "[29]\tvalidation_0-mlogloss:0.66526\tvalidation_1-mlogloss:0.94336\n",
      "[30]\tvalidation_0-mlogloss:0.64455\tvalidation_1-mlogloss:0.92968\n",
      "[31]\tvalidation_0-mlogloss:0.62567\tvalidation_1-mlogloss:0.91629\n",
      "[32]\tvalidation_0-mlogloss:0.60906\tvalidation_1-mlogloss:0.90317\n",
      "[33]\tvalidation_0-mlogloss:0.59118\tvalidation_1-mlogloss:0.88867\n",
      "[34]\tvalidation_0-mlogloss:0.57418\tvalidation_1-mlogloss:0.87574\n",
      "[35]\tvalidation_0-mlogloss:0.55740\tvalidation_1-mlogloss:0.86457\n",
      "[36]\tvalidation_0-mlogloss:0.54403\tvalidation_1-mlogloss:0.85624\n",
      "[37]\tvalidation_0-mlogloss:0.53186\tvalidation_1-mlogloss:0.84756\n",
      "[38]\tvalidation_0-mlogloss:0.51799\tvalidation_1-mlogloss:0.83744\n",
      "[39]\tvalidation_0-mlogloss:0.50380\tvalidation_1-mlogloss:0.82739\n",
      "[40]\tvalidation_0-mlogloss:0.49054\tvalidation_1-mlogloss:0.81907\n",
      "[41]\tvalidation_0-mlogloss:0.47626\tvalidation_1-mlogloss:0.81012\n",
      "[42]\tvalidation_0-mlogloss:0.46177\tvalidation_1-mlogloss:0.80101\n",
      "[43]\tvalidation_0-mlogloss:0.44993\tvalidation_1-mlogloss:0.79263\n",
      "[44]\tvalidation_0-mlogloss:0.43517\tvalidation_1-mlogloss:0.78372\n",
      "[45]\tvalidation_0-mlogloss:0.42131\tvalidation_1-mlogloss:0.77329\n",
      "[46]\tvalidation_0-mlogloss:0.41016\tvalidation_1-mlogloss:0.76649\n",
      "[47]\tvalidation_0-mlogloss:0.39784\tvalidation_1-mlogloss:0.75806\n",
      "[48]\tvalidation_0-mlogloss:0.38700\tvalidation_1-mlogloss:0.74964\n",
      "[49]\tvalidation_0-mlogloss:0.37524\tvalidation_1-mlogloss:0.74112\n",
      "[50]\tvalidation_0-mlogloss:0.36620\tvalidation_1-mlogloss:0.73434\n",
      "[51]\tvalidation_0-mlogloss:0.35478\tvalidation_1-mlogloss:0.72602\n",
      "[52]\tvalidation_0-mlogloss:0.34453\tvalidation_1-mlogloss:0.71865\n",
      "[53]\tvalidation_0-mlogloss:0.33539\tvalidation_1-mlogloss:0.71199\n",
      "[54]\tvalidation_0-mlogloss:0.32508\tvalidation_1-mlogloss:0.70453\n",
      "[55]\tvalidation_0-mlogloss:0.31642\tvalidation_1-mlogloss:0.69930\n",
      "[56]\tvalidation_0-mlogloss:0.30727\tvalidation_1-mlogloss:0.69272\n",
      "[57]\tvalidation_0-mlogloss:0.29944\tvalidation_1-mlogloss:0.68642\n",
      "[58]\tvalidation_0-mlogloss:0.29178\tvalidation_1-mlogloss:0.68058\n",
      "[59]\tvalidation_0-mlogloss:0.28528\tvalidation_1-mlogloss:0.67588\n",
      "[60]\tvalidation_0-mlogloss:0.27759\tvalidation_1-mlogloss:0.67046\n",
      "[61]\tvalidation_0-mlogloss:0.26930\tvalidation_1-mlogloss:0.66441\n",
      "[62]\tvalidation_0-mlogloss:0.26277\tvalidation_1-mlogloss:0.65920\n",
      "[63]\tvalidation_0-mlogloss:0.25517\tvalidation_1-mlogloss:0.65229\n",
      "[64]\tvalidation_0-mlogloss:0.24684\tvalidation_1-mlogloss:0.64615\n",
      "[65]\tvalidation_0-mlogloss:0.23984\tvalidation_1-mlogloss:0.64153\n",
      "[66]\tvalidation_0-mlogloss:0.23353\tvalidation_1-mlogloss:0.63635\n",
      "[67]\tvalidation_0-mlogloss:0.22709\tvalidation_1-mlogloss:0.63160\n",
      "[68]\tvalidation_0-mlogloss:0.22031\tvalidation_1-mlogloss:0.62646\n",
      "[69]\tvalidation_0-mlogloss:0.21475\tvalidation_1-mlogloss:0.62156\n",
      "[70]\tvalidation_0-mlogloss:0.20960\tvalidation_1-mlogloss:0.61802\n",
      "[71]\tvalidation_0-mlogloss:0.20474\tvalidation_1-mlogloss:0.61515\n",
      "[72]\tvalidation_0-mlogloss:0.19913\tvalidation_1-mlogloss:0.61137\n",
      "[73]\tvalidation_0-mlogloss:0.19374\tvalidation_1-mlogloss:0.60657\n",
      "[74]\tvalidation_0-mlogloss:0.18888\tvalidation_1-mlogloss:0.60272\n",
      "[75]\tvalidation_0-mlogloss:0.18451\tvalidation_1-mlogloss:0.59895\n",
      "[76]\tvalidation_0-mlogloss:0.18057\tvalidation_1-mlogloss:0.59557\n",
      "[77]\tvalidation_0-mlogloss:0.17594\tvalidation_1-mlogloss:0.59186\n",
      "[78]\tvalidation_0-mlogloss:0.17193\tvalidation_1-mlogloss:0.58919\n",
      "[79]\tvalidation_0-mlogloss:0.16815\tvalidation_1-mlogloss:0.58659\n",
      "[80]\tvalidation_0-mlogloss:0.16445\tvalidation_1-mlogloss:0.58392\n",
      "[81]\tvalidation_0-mlogloss:0.16087\tvalidation_1-mlogloss:0.58116\n",
      "[82]\tvalidation_0-mlogloss:0.15785\tvalidation_1-mlogloss:0.57798\n",
      "[83]\tvalidation_0-mlogloss:0.15443\tvalidation_1-mlogloss:0.57556\n",
      "[84]\tvalidation_0-mlogloss:0.15141\tvalidation_1-mlogloss:0.57270\n",
      "[85]\tvalidation_0-mlogloss:0.14829\tvalidation_1-mlogloss:0.57079\n",
      "[86]\tvalidation_0-mlogloss:0.14519\tvalidation_1-mlogloss:0.56893\n",
      "[87]\tvalidation_0-mlogloss:0.14236\tvalidation_1-mlogloss:0.56644\n",
      "[88]\tvalidation_0-mlogloss:0.13953\tvalidation_1-mlogloss:0.56463\n",
      "[89]\tvalidation_0-mlogloss:0.13695\tvalidation_1-mlogloss:0.56254\n",
      "[90]\tvalidation_0-mlogloss:0.13448\tvalidation_1-mlogloss:0.56070\n",
      "[91]\tvalidation_0-mlogloss:0.13210\tvalidation_1-mlogloss:0.55849\n",
      "[92]\tvalidation_0-mlogloss:0.12978\tvalidation_1-mlogloss:0.55673\n",
      "[93]\tvalidation_0-mlogloss:0.12754\tvalidation_1-mlogloss:0.55505\n",
      "[94]\tvalidation_0-mlogloss:0.12524\tvalidation_1-mlogloss:0.55377\n",
      "[95]\tvalidation_0-mlogloss:0.12304\tvalidation_1-mlogloss:0.55242\n",
      "[96]\tvalidation_0-mlogloss:0.12119\tvalidation_1-mlogloss:0.55112\n",
      "[97]\tvalidation_0-mlogloss:0.11917\tvalidation_1-mlogloss:0.54956\n",
      "[98]\tvalidation_0-mlogloss:0.11718\tvalidation_1-mlogloss:0.54803\n",
      "[99]\tvalidation_0-mlogloss:0.11521\tvalidation_1-mlogloss:0.54691\n",
      "[100]\tvalidation_0-mlogloss:0.11339\tvalidation_1-mlogloss:0.54554\n",
      "[101]\tvalidation_0-mlogloss:0.11159\tvalidation_1-mlogloss:0.54440\n",
      "[102]\tvalidation_0-mlogloss:0.10983\tvalidation_1-mlogloss:0.54295\n",
      "[103]\tvalidation_0-mlogloss:0.10819\tvalidation_1-mlogloss:0.54123\n",
      "[104]\tvalidation_0-mlogloss:0.10679\tvalidation_1-mlogloss:0.54032\n",
      "[105]\tvalidation_0-mlogloss:0.10519\tvalidation_1-mlogloss:0.53955\n",
      "[106]\tvalidation_0-mlogloss:0.10372\tvalidation_1-mlogloss:0.53843\n",
      "[107]\tvalidation_0-mlogloss:0.10218\tvalidation_1-mlogloss:0.53732\n",
      "[108]\tvalidation_0-mlogloss:0.10069\tvalidation_1-mlogloss:0.53584\n",
      "[109]\tvalidation_0-mlogloss:0.09942\tvalidation_1-mlogloss:0.53475\n",
      "[110]\tvalidation_0-mlogloss:0.09829\tvalidation_1-mlogloss:0.53448\n",
      "[111]\tvalidation_0-mlogloss:0.09690\tvalidation_1-mlogloss:0.53345\n",
      "[112]\tvalidation_0-mlogloss:0.09575\tvalidation_1-mlogloss:0.53265\n",
      "[113]\tvalidation_0-mlogloss:0.09455\tvalidation_1-mlogloss:0.53196\n",
      "[114]\tvalidation_0-mlogloss:0.09346\tvalidation_1-mlogloss:0.53136\n",
      "[115]\tvalidation_0-mlogloss:0.09222\tvalidation_1-mlogloss:0.53064\n",
      "[116]\tvalidation_0-mlogloss:0.09106\tvalidation_1-mlogloss:0.52963\n",
      "[117]\tvalidation_0-mlogloss:0.08985\tvalidation_1-mlogloss:0.52878\n",
      "[118]\tvalidation_0-mlogloss:0.08875\tvalidation_1-mlogloss:0.52828\n",
      "[119]\tvalidation_0-mlogloss:0.08774\tvalidation_1-mlogloss:0.52772\n",
      "[120]\tvalidation_0-mlogloss:0.08671\tvalidation_1-mlogloss:0.52728\n"
     ]
    },
    {
     "name": "stdout",
     "output_type": "stream",
     "text": [
      "[121]\tvalidation_0-mlogloss:0.08581\tvalidation_1-mlogloss:0.52671\n",
      "[122]\tvalidation_0-mlogloss:0.08481\tvalidation_1-mlogloss:0.52575\n",
      "[123]\tvalidation_0-mlogloss:0.08372\tvalidation_1-mlogloss:0.52446\n",
      "[124]\tvalidation_0-mlogloss:0.08281\tvalidation_1-mlogloss:0.52356\n",
      "[125]\tvalidation_0-mlogloss:0.08186\tvalidation_1-mlogloss:0.52306\n",
      "[126]\tvalidation_0-mlogloss:0.08092\tvalidation_1-mlogloss:0.52223\n",
      "[127]\tvalidation_0-mlogloss:0.08011\tvalidation_1-mlogloss:0.52204\n",
      "[128]\tvalidation_0-mlogloss:0.07926\tvalidation_1-mlogloss:0.52118\n",
      "[129]\tvalidation_0-mlogloss:0.07844\tvalidation_1-mlogloss:0.52065\n",
      "[130]\tvalidation_0-mlogloss:0.07776\tvalidation_1-mlogloss:0.52047\n",
      "[131]\tvalidation_0-mlogloss:0.07701\tvalidation_1-mlogloss:0.51989\n",
      "[132]\tvalidation_0-mlogloss:0.07624\tvalidation_1-mlogloss:0.51919\n",
      "[133]\tvalidation_0-mlogloss:0.07543\tvalidation_1-mlogloss:0.51823\n",
      "[134]\tvalidation_0-mlogloss:0.07469\tvalidation_1-mlogloss:0.51766\n",
      "[135]\tvalidation_0-mlogloss:0.07398\tvalidation_1-mlogloss:0.51754\n",
      "[136]\tvalidation_0-mlogloss:0.07327\tvalidation_1-mlogloss:0.51722\n",
      "[137]\tvalidation_0-mlogloss:0.07263\tvalidation_1-mlogloss:0.51693\n",
      "[138]\tvalidation_0-mlogloss:0.07205\tvalidation_1-mlogloss:0.51683\n",
      "[139]\tvalidation_0-mlogloss:0.07147\tvalidation_1-mlogloss:0.51611\n",
      "[140]\tvalidation_0-mlogloss:0.07081\tvalidation_1-mlogloss:0.51555\n",
      "[141]\tvalidation_0-mlogloss:0.07027\tvalidation_1-mlogloss:0.51553\n",
      "[142]\tvalidation_0-mlogloss:0.06978\tvalidation_1-mlogloss:0.51531\n",
      "[143]\tvalidation_0-mlogloss:0.06930\tvalidation_1-mlogloss:0.51519\n",
      "[144]\tvalidation_0-mlogloss:0.06868\tvalidation_1-mlogloss:0.51458\n",
      "[145]\tvalidation_0-mlogloss:0.06818\tvalidation_1-mlogloss:0.51452\n",
      "[146]\tvalidation_0-mlogloss:0.06764\tvalidation_1-mlogloss:0.51411\n",
      "[147]\tvalidation_0-mlogloss:0.06711\tvalidation_1-mlogloss:0.51386\n",
      "[148]\tvalidation_0-mlogloss:0.06660\tvalidation_1-mlogloss:0.51362\n",
      "[149]\tvalidation_0-mlogloss:0.06600\tvalidation_1-mlogloss:0.51316\n",
      "[150]\tvalidation_0-mlogloss:0.06552\tvalidation_1-mlogloss:0.51257\n",
      "[151]\tvalidation_0-mlogloss:0.06501\tvalidation_1-mlogloss:0.51193\n",
      "[152]\tvalidation_0-mlogloss:0.06445\tvalidation_1-mlogloss:0.51153\n",
      "[153]\tvalidation_0-mlogloss:0.06402\tvalidation_1-mlogloss:0.51129\n",
      "[154]\tvalidation_0-mlogloss:0.06358\tvalidation_1-mlogloss:0.51098\n",
      "[155]\tvalidation_0-mlogloss:0.06313\tvalidation_1-mlogloss:0.51037\n",
      "[156]\tvalidation_0-mlogloss:0.06267\tvalidation_1-mlogloss:0.51029\n",
      "[157]\tvalidation_0-mlogloss:0.06226\tvalidation_1-mlogloss:0.51030\n",
      "[158]\tvalidation_0-mlogloss:0.06181\tvalidation_1-mlogloss:0.50977\n",
      "[159]\tvalidation_0-mlogloss:0.06144\tvalidation_1-mlogloss:0.50941\n",
      "[160]\tvalidation_0-mlogloss:0.06112\tvalidation_1-mlogloss:0.50903\n",
      "[161]\tvalidation_0-mlogloss:0.06079\tvalidation_1-mlogloss:0.50884\n",
      "[162]\tvalidation_0-mlogloss:0.06046\tvalidation_1-mlogloss:0.50869\n",
      "[163]\tvalidation_0-mlogloss:0.06022\tvalidation_1-mlogloss:0.50853\n",
      "[164]\tvalidation_0-mlogloss:0.05994\tvalidation_1-mlogloss:0.50845\n"
     ]
    }
   ],
   "source": [
    "#selected parameters\n",
    "params = {\n",
    "            'objective':'multi:softprob',\n",
    "            'max_depth': 8,\n",
    "            'learning_rate': 0.1,\n",
    "            'n_estimators':200,\n",
    "            'n_threads' : 8,\n",
    "            'colsample_bytree': 0.8,\n",
    "            'alpha': 10\n",
    "        }\n",
    "           \n",
    "# initialize the classifier \n",
    "xgb_clf = XGBClassifier(**params)\n",
    "\n",
    "#initialize data\n",
    "evaluation = [( X_train, y_train), ( X_val, y_val)]\n",
    "\n",
    "#fit the model\n",
    "xgb_clf.fit(X_train, y_train, eval_set=evaluation, eval_metric=\"mlogloss\", early_stopping_rounds=100, sample_weight = weight_matrix)"
   ]
  },
  {
   "cell_type": "markdown",
   "id": "e792e952",
   "metadata": {},
   "source": [
    "# check performance in validation data"
   ]
  },
  {
   "cell_type": "code",
   "execution_count": null,
   "id": "c48fa25c",
   "metadata": {},
   "outputs": [],
   "source": [
    "#make prediction\n",
    "y_pred = xgb_clf.predict(X_val)\n",
    "\n",
    "print('weighted f1 score ', f1_score(list(y_val), list(y_pred), average = 'weighted'))\n",
    "print('per classs f1 score ', f1_score(list(y_val), list(y_pred), average = None))\n",
    "print('confusion matrix \\n', confusion_matrix(list(y_val), list(y_pred)))\n",
    "print('cohen cappa score ', cohen_kappa_score(list(y_val), list(y_pred)))"
   ]
  },
  {
   "cell_type": "markdown",
   "id": "19ac4e36",
   "metadata": {},
   "source": [
    "# save model "
   ]
  },
  {
   "cell_type": "code",
   "execution_count": null,
   "id": "a508ff33",
   "metadata": {},
   "outputs": [],
   "source": [
    "joblib.dump(xgb_clf, 'model_final.pkl')"
   ]
  },
  {
   "cell_type": "markdown",
   "id": "3742d965",
   "metadata": {},
   "source": [
    "# bacterias which are informative for the prediciton"
   ]
  },
  {
   "cell_type": "code",
   "execution_count": null,
   "id": "70acfb09",
   "metadata": {},
   "outputs": [],
   "source": [
    "feature_important = xgb_clf.get_booster().get_score(importance_type='weight')\n",
    "keys = list(feature_important.keys())\n",
    "values = list(feature_important.values())\n",
    "\n",
    "data = pd.DataFrame(data=values, index=keys, columns=[\"score\"]).sort_values(by = \"score\", ascending=False)\n",
    "print(len(data))"
   ]
  },
  {
   "cell_type": "markdown",
   "id": "9a16ff1f",
   "metadata": {},
   "source": [
    "443 bacterias were deemed important by the model."
   ]
  },
  {
   "cell_type": "markdown",
   "id": "e0b7d84e",
   "metadata": {},
   "source": [
    "# test data prediction"
   ]
  },
  {
   "cell_type": "code",
   "execution_count": null,
   "id": "2ec51ec4",
   "metadata": {},
   "outputs": [],
   "source": [
    "#read and process the test data the same way as train data\n",
    "\n",
    "df = pd.read_csv(\"PharmaHacks2022-master/Samplenormalized_test_data.csv\", index_col=False)\n",
    "X_test = df.iloc[:, 2:1096]\n",
    "Y_test = df.iloc[:, 1096]\n",
    "\n",
    "Y_test[Y_test == 'Healthy'] = 0\n",
    "Y_test[Y_test == 'Disease-1'] = 1\n",
    "Y_test[Y_test == 'Disease-2'] = 2\n",
    "Y_test[Y_test == 'Disease-3'] = 3"
   ]
  },
  {
   "cell_type": "code",
   "execution_count": null,
   "id": "4facd459",
   "metadata": {},
   "outputs": [],
   "source": [
    "model = joblib.load(\"model_file_name.pkl\")\n",
    "y_pred = model.predict(X_test)\n",
    "\n",
    "from sklearn.metrics import accuracy_score\n",
    "from sklearn.metrics import f1_score\n",
    "from sklearn.metrics import precision_recall_fscore_support\n",
    "from sklearn.metrics import cohen_kappa_score, confusion_matrix\n",
    "\n",
    "print('weighted f1 score ', f1_score(list(Y_test), list(y_pred), average = 'weighted'))\n",
    "print('per classs f1 score ', f1_score(list(Y_test), list(y_pred), average = None))\n",
    "print('confusion matrix \\n', confusion_matrix(list(Y_test), list(y_pred)))\n",
    "print('cohen cappa score ', cohen_kappa_score(list(Y_test), list(y_pred)))"
   ]
  },
  {
   "cell_type": "markdown",
   "id": "9f24a1a8",
   "metadata": {},
   "source": [
    "# differentially expressed bacteria"
   ]
  },
  {
   "cell_type": "code",
   "execution_count": null,
   "id": "6b6ab97b",
   "metadata": {},
   "outputs": [],
   "source": [
    "#reading the csv file created in R. need some string formating as R doesn't read hyphens\n",
    "diff_bacts = pd.read_csv('DEB_strictfiltered_training.csv')\n",
    "diff_bacts = list(diff_bacts.iloc[:,0])\n",
    "diff_bacts = ['Bacteria.' + bact.split('Bacteria.')[1] for bact in diff_bacts]"
   ]
  },
  {
   "cell_type": "markdown",
   "id": "11e38a60",
   "metadata": {},
   "source": [
    "### compare the differenetially enriched bacteria and bacteria found to be important by our xgboost model"
   ]
  },
  {
   "cell_type": "code",
   "execution_count": null,
   "id": "a0de8c0a",
   "metadata": {},
   "outputs": [],
   "source": [
    "count = 0\n",
    "for bact in diff_bacts:\n",
    "    if bact not in keys:\n",
    "        count += 1\n",
    "        print('found a enriched bacteria that is not identified by the model')\n",
    "print(count)"
   ]
  },
  {
   "cell_type": "markdown",
   "id": "5a0e4be0",
   "metadata": {},
   "source": [
    "So all the bacteria found to be important by xgboost are enriched."
   ]
  },
  {
   "cell_type": "markdown",
   "id": "f57528ba",
   "metadata": {},
   "source": [
    "# What if we only use the enriched bacteria to train the model (6.5% data)?"
   ]
  },
  {
   "cell_type": "markdown",
   "id": "9a0c6028",
   "metadata": {},
   "source": [
    "Now we see whether we can just use this statistically significant bacteria to train the model. The motivation is that if we find the bacteria which are required to classify between different classes it would reduce our screening space. Also it would reduce the complexity of the model."
   ]
  },
  {
   "cell_type": "code",
   "execution_count": null,
   "id": "133b22b2",
   "metadata": {},
   "outputs": [],
   "source": [
    "df = pd.read_csv(\"PharmaHacks2022-master/Samplenormalized_train_data.csv\", index_col=False)\n",
    "X = df[diff_bacts]\n",
    "Y = df.iloc[:, 1096]\n",
    "\n",
    "# the weight for each class needs to be assigned to the samples individually in xgboost. So we create a weight matrix\n",
    "#that is the same length as samples in the train data\n",
    "convert_to_weight = {'0': w[0], '1': w[1], '2':w[2]*10, '3': w[3]}\n",
    "weight_matrix = [convert_to_weight[str(i)] for i in y_train]\n",
    "\n",
    "Y[Y == 'Healthy'] = 0\n",
    "Y[Y == 'Disease-1'] = 1\n",
    "Y[Y == 'Disease-2'] = 2\n",
    "Y[Y == 'Disease-3'] = 3\n",
    "\n",
    "#create data matrix\n",
    "import xgboost as xgb\n",
    "data_matrix = xgb.DMatrix(data = X, label = Y)\n",
    "\n",
    "# create train and validation split\n",
    "X_train, X_val, y_train, y_val = train_test_split(X, Y, test_size = 0.2, random_state = 0)\n",
    "\n",
    "\n",
    "#selected parameters\n",
    "params = {\n",
    "            'objective':'multi:softprob',\n",
    "            'max_depth': 8,\n",
    "            'learning_rate': 0.1,\n",
    "            'n_estimators':200,\n",
    "            'n_threads' : 8,\n",
    "            'colsample_bytree': 0.8,\n",
    "            'alpha': 10\n",
    "        }\n",
    "           \n",
    "# initialize the classifier \n",
    "xgb_clf = XGBClassifier(**params)\n",
    "\n",
    "#initialize data\n",
    "evaluation = [( X_train, y_train), ( X_val, y_val)]\n",
    "\n",
    "#fit the model\n",
    "xgb_clf.fit(X_train, y_train, eval_set=evaluation, eval_metric=\"mlogloss\", early_stopping_rounds=100, sample_weight = weight_matrix)\n",
    "\n",
    "#save model\n",
    "joblib.dump(xgb_clf, 'model_71_bacteria.pkl')\n",
    "\n",
    "#read test data and process\n",
    "df = pd.read_csv(\"PharmaHacks2022-master/Samplenormalized_test_data.csv\", index_col=False)\n",
    "X_test = df[diff_bacts]\n",
    "\n",
    "Y_test = df.iloc[:, 1096]\n",
    "\n",
    "Y_test[Y_test == 'Healthy'] = 0\n",
    "Y_test[Y_test == 'Disease-1'] = 1\n",
    "Y_test[Y_test == 'Disease-2'] = 2\n",
    "Y_test[Y_test == 'Disease-3'] = 3\n",
    "\n",
    "y_pred = xgb_clf.predict(X_test)"
   ]
  },
  {
   "cell_type": "code",
   "execution_count": null,
   "id": "cc902c16",
   "metadata": {},
   "outputs": [],
   "source": [
    "print('weighted f1 score ', f1_score(list(Y_test), list(y_pred), average = 'weighted'))\n",
    "print('per classs f1 score ', f1_score(list(Y_test), list(y_pred), average = None))\n",
    "print('confusion matrix \\n', confusion_matrix(list(Y_test), list(y_pred)))\n",
    "print('cohen cappa score ', cohen_kappa_score(list(Y_test), list(y_pred)))"
   ]
  },
  {
   "cell_type": "markdown",
   "id": "2fda2765",
   "metadata": {},
   "source": [
    "### we have been able to achieve comparable performance using only 71 bacteria using differentially enrichment analysis"
   ]
  }
 ],
 "metadata": {
  "kernelspec": {
   "display_name": "Python 3 (ipykernel)",
   "language": "python",
   "name": "python3"
  },
  "language_info": {
   "codemirror_mode": {
    "name": "ipython",
    "version": 3
   },
   "file_extension": ".py",
   "mimetype": "text/x-python",
   "name": "python",
   "nbconvert_exporter": "python",
   "pygments_lexer": "ipython3",
   "version": "3.7.11"
  }
 },
 "nbformat": 4,
 "nbformat_minor": 5
}
