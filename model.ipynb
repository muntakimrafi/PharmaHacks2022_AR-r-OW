{
 "cells": [
  {
   "cell_type": "markdown",
   "id": "07da05c5",
   "metadata": {},
   "source": [
    "# import libraries"
   ]
  },
  {
   "cell_type": "code",
   "execution_count": 1,
   "id": "9894b932",
   "metadata": {},
   "outputs": [],
   "source": [
    "import numpy as np\n",
    "import pandas as pd\n",
    "from matplotlib import pyplot as plt\n",
    "import sklearn\n",
    "from sklearn import metrics\n",
    "import xgboost as xgb\n",
    "from tqdm import tqdm\n",
    "import warnings\n",
    "warnings.filterwarnings('ignore')\n",
    "import numpy as np\n",
    "import pandas as pd\n",
    "import joblib\n",
    "from sklearn.model_selection import RandomizedSearchCV, GridSearchCV\n",
    "from sklearn.metrics import roc_auc_score, accuracy_score, f1_score, cohen_kappa_score, confusion_matrix\n",
    "from xgboost import XGBClassifier\n",
    "from sklearn.model_selection import train_test_split"
   ]
  },
  {
   "cell_type": "markdown",
   "id": "246403b8",
   "metadata": {},
   "source": [
    "# read the data"
   ]
  },
  {
   "cell_type": "code",
   "execution_count": 2,
   "id": "346eff61",
   "metadata": {},
   "outputs": [],
   "source": [
    "df = pd.read_csv(\"Samplenormalized_train_data.csv\", index_col=False)\n",
    "X = df.iloc[:, 2:1096]\n",
    "Y = df.iloc[:, 1096]"
   ]
  },
  {
   "cell_type": "markdown",
   "id": "e9df703d",
   "metadata": {},
   "source": [
    "# use weighting to provide higher weight to class with fewer samples"
   ]
  },
  {
   "cell_type": "code",
   "execution_count": 3,
   "id": "f7721380",
   "metadata": {},
   "outputs": [],
   "source": [
    "w = [len(Y) / len(Y[Y == 'Healthy']), len(Y) / len(Y[Y == 'Disease-1']), len(Y) / len(Y[Y == 'Disease-2']),\n",
    "                                                   len(Y) / len(Y[Y == 'Disease-3'])]"
   ]
  },
  {
   "cell_type": "markdown",
   "id": "415639b6",
   "metadata": {},
   "source": [
    "# assign labels to classes"
   ]
  },
  {
   "cell_type": "code",
   "execution_count": 4,
   "id": "979342e3",
   "metadata": {},
   "outputs": [],
   "source": [
    "Y[Y == 'Healthy'] = 0\n",
    "Y[Y == 'Disease-1'] = 1\n",
    "Y[Y == 'Disease-2'] = 2\n",
    "Y[Y == 'Disease-3'] = 3"
   ]
  },
  {
   "cell_type": "markdown",
   "id": "f4943f78",
   "metadata": {},
   "source": [
    "# prepare data for xgboost"
   ]
  },
  {
   "cell_type": "code",
   "execution_count": 5,
   "id": "0ed3a6e0",
   "metadata": {},
   "outputs": [],
   "source": [
    "import xgboost as xgb\n",
    "#create data matrix\n",
    "data_matrix = xgb.DMatrix(data = X, label = Y)\n",
    "\n",
    "# create train and validation split\n",
    "X_train, X_val, y_train, y_val = train_test_split(X, Y, test_size = 0.2, random_state = 0)\n",
    "# the weight for each class needs to be assigned to the samples individually in xgboost. So we create a weight matrix\n",
    "#that is the same length as samples in the train data\n",
    "convert_to_weight = {'0': w[0], '1': w[1], '2':w[2]*10, '3': w[3]}\n",
    "weight_matrix = [convert_to_weight[str(i)] for i in y_train]"
   ]
  },
  {
   "cell_type": "markdown",
   "id": "fc186e3f",
   "metadata": {},
   "source": [
    "# hyperparameter tuning"
   ]
  },
  {
   "cell_type": "code",
   "execution_count": 6,
   "id": "11e1c694",
   "metadata": {},
   "outputs": [],
   "source": [
    "# params = {\n",
    "#         'n_estimators': [50, 100, 150, 200],\n",
    "#         'max_depth': [6, 8, 10],\n",
    "#         'learning_rate': [0.05, 0.1, 0.2],\n",
    "#         'gamma': [0, 0.5, 1],\n",
    "#         'min_child_weight': [1, 5, 10],\n",
    "#         'subsample': [0.6, 0.8, 1],\n",
    "#         'colsample_by_tree': [0.6, 0.8, 1]}\n",
    "\n",
    "# xgb = XGBClassifier(objective='multi:softprob', silent=True, nthread=6)\n",
    "# evaluation = [( X_train, y_train), ( X_val, y_val)]\n",
    "\n",
    "# grid_search = GridSearchCV(estimator = xgb, param_grid=params, verbose=3, scoring = 'f1_weighted')\n",
    "# grid_search.fit(X_train, y_train, eval_set=evaluation, eval_metric=\"mlogloss\", early_stopping_rounds=10, sample_weight = weight_matrix)"
   ]
  },
  {
   "cell_type": "markdown",
   "id": "3d56a9fc",
   "metadata": {},
   "source": [
    "Point to be noted, we could not select the complete hyperparameter space we wanted to explore. Therefore, we limited it to manual search of the features we thought was significant enough and seleced the best performing one. "
   ]
  },
  {
   "cell_type": "markdown",
   "id": "c1c4d8e6",
   "metadata": {},
   "source": [
    "# hyperparameter selected"
   ]
  },
  {
   "cell_type": "code",
   "execution_count": 7,
   "id": "53dad2ec",
   "metadata": {},
   "outputs": [
    {
     "name": "stdout",
     "output_type": "stream",
     "text": [
      "[07:08:53] WARNING: ../src/learner.cc:576: \n",
      "Parameters: { \"n_threads\" } might not be used.\n",
      "\n",
      "  This could be a false alarm, with some parameters getting used by language bindings but\n",
      "  then being mistakenly passed down to XGBoost core, or some parameter actually being used\n",
      "  but getting flagged wrongly here. Please open an issue if you find any such cases.\n",
      "\n",
      "\n",
      "[0]\tvalidation_0-mlogloss:1.34363\tvalidation_1-mlogloss:1.35466\n",
      "[1]\tvalidation_0-mlogloss:1.30029\tvalidation_1-mlogloss:1.32114\n",
      "[2]\tvalidation_0-mlogloss:1.26805\tvalidation_1-mlogloss:1.30200\n",
      "[3]\tvalidation_0-mlogloss:1.23843\tvalidation_1-mlogloss:1.28154\n",
      "[4]\tvalidation_0-mlogloss:1.20992\tvalidation_1-mlogloss:1.26197\n",
      "[5]\tvalidation_0-mlogloss:1.19068\tvalidation_1-mlogloss:1.25127\n",
      "[6]\tvalidation_0-mlogloss:1.16615\tvalidation_1-mlogloss:1.23641\n",
      "[7]\tvalidation_0-mlogloss:1.14353\tvalidation_1-mlogloss:1.22386\n",
      "[8]\tvalidation_0-mlogloss:1.12153\tvalidation_1-mlogloss:1.21046\n",
      "[9]\tvalidation_0-mlogloss:1.10092\tvalidation_1-mlogloss:1.19927\n",
      "[10]\tvalidation_0-mlogloss:1.07747\tvalidation_1-mlogloss:1.18604\n",
      "[11]\tvalidation_0-mlogloss:1.05895\tvalidation_1-mlogloss:1.17522\n",
      "[12]\tvalidation_0-mlogloss:1.03684\tvalidation_1-mlogloss:1.15930\n",
      "[13]\tvalidation_0-mlogloss:1.01284\tvalidation_1-mlogloss:1.14468\n",
      "[14]\tvalidation_0-mlogloss:0.98965\tvalidation_1-mlogloss:1.12977\n",
      "[15]\tvalidation_0-mlogloss:0.96916\tvalidation_1-mlogloss:1.11726\n",
      "[16]\tvalidation_0-mlogloss:0.94350\tvalidation_1-mlogloss:1.10099\n",
      "[17]\tvalidation_0-mlogloss:0.92740\tvalidation_1-mlogloss:1.09394\n",
      "[18]\tvalidation_0-mlogloss:0.90465\tvalidation_1-mlogloss:1.08026\n",
      "[19]\tvalidation_0-mlogloss:0.88574\tvalidation_1-mlogloss:1.07141\n",
      "[20]\tvalidation_0-mlogloss:0.85878\tvalidation_1-mlogloss:1.05544\n",
      "[21]\tvalidation_0-mlogloss:0.84083\tvalidation_1-mlogloss:1.04530\n",
      "[22]\tvalidation_0-mlogloss:0.81562\tvalidation_1-mlogloss:1.02992\n",
      "[23]\tvalidation_0-mlogloss:0.79346\tvalidation_1-mlogloss:1.01718\n",
      "[24]\tvalidation_0-mlogloss:0.77279\tvalidation_1-mlogloss:1.00404\n",
      "[25]\tvalidation_0-mlogloss:0.75149\tvalidation_1-mlogloss:0.99133\n",
      "[26]\tvalidation_0-mlogloss:0.72892\tvalidation_1-mlogloss:0.98025\n",
      "[27]\tvalidation_0-mlogloss:0.70694\tvalidation_1-mlogloss:0.96891\n",
      "[28]\tvalidation_0-mlogloss:0.68634\tvalidation_1-mlogloss:0.95643\n",
      "[29]\tvalidation_0-mlogloss:0.66526\tvalidation_1-mlogloss:0.94336\n",
      "[30]\tvalidation_0-mlogloss:0.64455\tvalidation_1-mlogloss:0.92968\n",
      "[31]\tvalidation_0-mlogloss:0.62567\tvalidation_1-mlogloss:0.91629\n",
      "[32]\tvalidation_0-mlogloss:0.60906\tvalidation_1-mlogloss:0.90317\n",
      "[33]\tvalidation_0-mlogloss:0.59118\tvalidation_1-mlogloss:0.88867\n",
      "[34]\tvalidation_0-mlogloss:0.57418\tvalidation_1-mlogloss:0.87574\n",
      "[35]\tvalidation_0-mlogloss:0.55740\tvalidation_1-mlogloss:0.86457\n",
      "[36]\tvalidation_0-mlogloss:0.54403\tvalidation_1-mlogloss:0.85624\n",
      "[37]\tvalidation_0-mlogloss:0.53186\tvalidation_1-mlogloss:0.84756\n",
      "[38]\tvalidation_0-mlogloss:0.51799\tvalidation_1-mlogloss:0.83744\n",
      "[39]\tvalidation_0-mlogloss:0.50380\tvalidation_1-mlogloss:0.82739\n",
      "[40]\tvalidation_0-mlogloss:0.49054\tvalidation_1-mlogloss:0.81907\n",
      "[41]\tvalidation_0-mlogloss:0.47626\tvalidation_1-mlogloss:0.81012\n",
      "[42]\tvalidation_0-mlogloss:0.46177\tvalidation_1-mlogloss:0.80101\n",
      "[43]\tvalidation_0-mlogloss:0.44993\tvalidation_1-mlogloss:0.79263\n",
      "[44]\tvalidation_0-mlogloss:0.43517\tvalidation_1-mlogloss:0.78372\n",
      "[45]\tvalidation_0-mlogloss:0.42131\tvalidation_1-mlogloss:0.77329\n",
      "[46]\tvalidation_0-mlogloss:0.41016\tvalidation_1-mlogloss:0.76649\n",
      "[47]\tvalidation_0-mlogloss:0.39784\tvalidation_1-mlogloss:0.75806\n",
      "[48]\tvalidation_0-mlogloss:0.38700\tvalidation_1-mlogloss:0.74964\n",
      "[49]\tvalidation_0-mlogloss:0.37524\tvalidation_1-mlogloss:0.74112\n",
      "[50]\tvalidation_0-mlogloss:0.36620\tvalidation_1-mlogloss:0.73434\n",
      "[51]\tvalidation_0-mlogloss:0.35478\tvalidation_1-mlogloss:0.72602\n",
      "[52]\tvalidation_0-mlogloss:0.34453\tvalidation_1-mlogloss:0.71865\n",
      "[53]\tvalidation_0-mlogloss:0.33539\tvalidation_1-mlogloss:0.71199\n",
      "[54]\tvalidation_0-mlogloss:0.32508\tvalidation_1-mlogloss:0.70453\n",
      "[55]\tvalidation_0-mlogloss:0.31642\tvalidation_1-mlogloss:0.69930\n",
      "[56]\tvalidation_0-mlogloss:0.30727\tvalidation_1-mlogloss:0.69272\n",
      "[57]\tvalidation_0-mlogloss:0.29944\tvalidation_1-mlogloss:0.68642\n",
      "[58]\tvalidation_0-mlogloss:0.29178\tvalidation_1-mlogloss:0.68058\n",
      "[59]\tvalidation_0-mlogloss:0.28528\tvalidation_1-mlogloss:0.67588\n",
      "[60]\tvalidation_0-mlogloss:0.27759\tvalidation_1-mlogloss:0.67046\n",
      "[61]\tvalidation_0-mlogloss:0.26930\tvalidation_1-mlogloss:0.66441\n",
      "[62]\tvalidation_0-mlogloss:0.26277\tvalidation_1-mlogloss:0.65920\n",
      "[63]\tvalidation_0-mlogloss:0.25517\tvalidation_1-mlogloss:0.65229\n",
      "[64]\tvalidation_0-mlogloss:0.24684\tvalidation_1-mlogloss:0.64615\n",
      "[65]\tvalidation_0-mlogloss:0.23984\tvalidation_1-mlogloss:0.64153\n",
      "[66]\tvalidation_0-mlogloss:0.23353\tvalidation_1-mlogloss:0.63635\n",
      "[67]\tvalidation_0-mlogloss:0.22709\tvalidation_1-mlogloss:0.63160\n",
      "[68]\tvalidation_0-mlogloss:0.22031\tvalidation_1-mlogloss:0.62646\n",
      "[69]\tvalidation_0-mlogloss:0.21475\tvalidation_1-mlogloss:0.62156\n",
      "[70]\tvalidation_0-mlogloss:0.20960\tvalidation_1-mlogloss:0.61802\n",
      "[71]\tvalidation_0-mlogloss:0.20474\tvalidation_1-mlogloss:0.61515\n",
      "[72]\tvalidation_0-mlogloss:0.19913\tvalidation_1-mlogloss:0.61137\n",
      "[73]\tvalidation_0-mlogloss:0.19374\tvalidation_1-mlogloss:0.60657\n",
      "[74]\tvalidation_0-mlogloss:0.18888\tvalidation_1-mlogloss:0.60272\n",
      "[75]\tvalidation_0-mlogloss:0.18451\tvalidation_1-mlogloss:0.59895\n",
      "[76]\tvalidation_0-mlogloss:0.18057\tvalidation_1-mlogloss:0.59557\n",
      "[77]\tvalidation_0-mlogloss:0.17594\tvalidation_1-mlogloss:0.59186\n",
      "[78]\tvalidation_0-mlogloss:0.17193\tvalidation_1-mlogloss:0.58919\n",
      "[79]\tvalidation_0-mlogloss:0.16815\tvalidation_1-mlogloss:0.58659\n",
      "[80]\tvalidation_0-mlogloss:0.16445\tvalidation_1-mlogloss:0.58392\n",
      "[81]\tvalidation_0-mlogloss:0.16087\tvalidation_1-mlogloss:0.58116\n",
      "[82]\tvalidation_0-mlogloss:0.15785\tvalidation_1-mlogloss:0.57798\n",
      "[83]\tvalidation_0-mlogloss:0.15443\tvalidation_1-mlogloss:0.57556\n",
      "[84]\tvalidation_0-mlogloss:0.15141\tvalidation_1-mlogloss:0.57270\n",
      "[85]\tvalidation_0-mlogloss:0.14829\tvalidation_1-mlogloss:0.57079\n",
      "[86]\tvalidation_0-mlogloss:0.14519\tvalidation_1-mlogloss:0.56893\n",
      "[87]\tvalidation_0-mlogloss:0.14236\tvalidation_1-mlogloss:0.56644\n",
      "[88]\tvalidation_0-mlogloss:0.13953\tvalidation_1-mlogloss:0.56463\n",
      "[89]\tvalidation_0-mlogloss:0.13695\tvalidation_1-mlogloss:0.56254\n",
      "[90]\tvalidation_0-mlogloss:0.13448\tvalidation_1-mlogloss:0.56070\n",
      "[91]\tvalidation_0-mlogloss:0.13210\tvalidation_1-mlogloss:0.55849\n",
      "[92]\tvalidation_0-mlogloss:0.12978\tvalidation_1-mlogloss:0.55673\n",
      "[93]\tvalidation_0-mlogloss:0.12754\tvalidation_1-mlogloss:0.55505\n",
      "[94]\tvalidation_0-mlogloss:0.12524\tvalidation_1-mlogloss:0.55377\n",
      "[95]\tvalidation_0-mlogloss:0.12304\tvalidation_1-mlogloss:0.55242\n",
      "[96]\tvalidation_0-mlogloss:0.12119\tvalidation_1-mlogloss:0.55112\n",
      "[97]\tvalidation_0-mlogloss:0.11917\tvalidation_1-mlogloss:0.54956\n",
      "[98]\tvalidation_0-mlogloss:0.11718\tvalidation_1-mlogloss:0.54803\n",
      "[99]\tvalidation_0-mlogloss:0.11521\tvalidation_1-mlogloss:0.54691\n",
      "[100]\tvalidation_0-mlogloss:0.11339\tvalidation_1-mlogloss:0.54554\n",
      "[101]\tvalidation_0-mlogloss:0.11159\tvalidation_1-mlogloss:0.54440\n",
      "[102]\tvalidation_0-mlogloss:0.10983\tvalidation_1-mlogloss:0.54295\n",
      "[103]\tvalidation_0-mlogloss:0.10819\tvalidation_1-mlogloss:0.54123\n",
      "[104]\tvalidation_0-mlogloss:0.10679\tvalidation_1-mlogloss:0.54032\n",
      "[105]\tvalidation_0-mlogloss:0.10519\tvalidation_1-mlogloss:0.53955\n",
      "[106]\tvalidation_0-mlogloss:0.10372\tvalidation_1-mlogloss:0.53843\n",
      "[107]\tvalidation_0-mlogloss:0.10218\tvalidation_1-mlogloss:0.53732\n",
      "[108]\tvalidation_0-mlogloss:0.10069\tvalidation_1-mlogloss:0.53584\n",
      "[109]\tvalidation_0-mlogloss:0.09942\tvalidation_1-mlogloss:0.53475\n",
      "[110]\tvalidation_0-mlogloss:0.09829\tvalidation_1-mlogloss:0.53448\n",
      "[111]\tvalidation_0-mlogloss:0.09690\tvalidation_1-mlogloss:0.53345\n",
      "[112]\tvalidation_0-mlogloss:0.09575\tvalidation_1-mlogloss:0.53265\n",
      "[113]\tvalidation_0-mlogloss:0.09455\tvalidation_1-mlogloss:0.53196\n",
      "[114]\tvalidation_0-mlogloss:0.09346\tvalidation_1-mlogloss:0.53136\n",
      "[115]\tvalidation_0-mlogloss:0.09222\tvalidation_1-mlogloss:0.53064\n",
      "[116]\tvalidation_0-mlogloss:0.09106\tvalidation_1-mlogloss:0.52963\n",
      "[117]\tvalidation_0-mlogloss:0.08985\tvalidation_1-mlogloss:0.52878\n",
      "[118]\tvalidation_0-mlogloss:0.08875\tvalidation_1-mlogloss:0.52828\n",
      "[119]\tvalidation_0-mlogloss:0.08774\tvalidation_1-mlogloss:0.52772\n",
      "[120]\tvalidation_0-mlogloss:0.08671\tvalidation_1-mlogloss:0.52728\n"
     ]
    },
    {
     "name": "stdout",
     "output_type": "stream",
     "text": [
      "[121]\tvalidation_0-mlogloss:0.08581\tvalidation_1-mlogloss:0.52671\n",
      "[122]\tvalidation_0-mlogloss:0.08481\tvalidation_1-mlogloss:0.52575\n",
      "[123]\tvalidation_0-mlogloss:0.08372\tvalidation_1-mlogloss:0.52446\n",
      "[124]\tvalidation_0-mlogloss:0.08281\tvalidation_1-mlogloss:0.52356\n",
      "[125]\tvalidation_0-mlogloss:0.08186\tvalidation_1-mlogloss:0.52306\n",
      "[126]\tvalidation_0-mlogloss:0.08092\tvalidation_1-mlogloss:0.52223\n",
      "[127]\tvalidation_0-mlogloss:0.08011\tvalidation_1-mlogloss:0.52204\n",
      "[128]\tvalidation_0-mlogloss:0.07926\tvalidation_1-mlogloss:0.52118\n",
      "[129]\tvalidation_0-mlogloss:0.07844\tvalidation_1-mlogloss:0.52065\n",
      "[130]\tvalidation_0-mlogloss:0.07776\tvalidation_1-mlogloss:0.52047\n",
      "[131]\tvalidation_0-mlogloss:0.07701\tvalidation_1-mlogloss:0.51989\n",
      "[132]\tvalidation_0-mlogloss:0.07624\tvalidation_1-mlogloss:0.51919\n",
      "[133]\tvalidation_0-mlogloss:0.07543\tvalidation_1-mlogloss:0.51823\n",
      "[134]\tvalidation_0-mlogloss:0.07469\tvalidation_1-mlogloss:0.51766\n",
      "[135]\tvalidation_0-mlogloss:0.07398\tvalidation_1-mlogloss:0.51754\n",
      "[136]\tvalidation_0-mlogloss:0.07327\tvalidation_1-mlogloss:0.51722\n",
      "[137]\tvalidation_0-mlogloss:0.07263\tvalidation_1-mlogloss:0.51693\n",
      "[138]\tvalidation_0-mlogloss:0.07205\tvalidation_1-mlogloss:0.51683\n",
      "[139]\tvalidation_0-mlogloss:0.07147\tvalidation_1-mlogloss:0.51611\n",
      "[140]\tvalidation_0-mlogloss:0.07081\tvalidation_1-mlogloss:0.51555\n",
      "[141]\tvalidation_0-mlogloss:0.07027\tvalidation_1-mlogloss:0.51553\n",
      "[142]\tvalidation_0-mlogloss:0.06978\tvalidation_1-mlogloss:0.51531\n",
      "[143]\tvalidation_0-mlogloss:0.06930\tvalidation_1-mlogloss:0.51519\n",
      "[144]\tvalidation_0-mlogloss:0.06868\tvalidation_1-mlogloss:0.51458\n",
      "[145]\tvalidation_0-mlogloss:0.06818\tvalidation_1-mlogloss:0.51452\n",
      "[146]\tvalidation_0-mlogloss:0.06764\tvalidation_1-mlogloss:0.51411\n",
      "[147]\tvalidation_0-mlogloss:0.06711\tvalidation_1-mlogloss:0.51386\n",
      "[148]\tvalidation_0-mlogloss:0.06660\tvalidation_1-mlogloss:0.51362\n",
      "[149]\tvalidation_0-mlogloss:0.06600\tvalidation_1-mlogloss:0.51316\n",
      "[150]\tvalidation_0-mlogloss:0.06552\tvalidation_1-mlogloss:0.51257\n",
      "[151]\tvalidation_0-mlogloss:0.06501\tvalidation_1-mlogloss:0.51193\n",
      "[152]\tvalidation_0-mlogloss:0.06445\tvalidation_1-mlogloss:0.51153\n",
      "[153]\tvalidation_0-mlogloss:0.06402\tvalidation_1-mlogloss:0.51129\n",
      "[154]\tvalidation_0-mlogloss:0.06358\tvalidation_1-mlogloss:0.51098\n",
      "[155]\tvalidation_0-mlogloss:0.06313\tvalidation_1-mlogloss:0.51037\n",
      "[156]\tvalidation_0-mlogloss:0.06267\tvalidation_1-mlogloss:0.51029\n",
      "[157]\tvalidation_0-mlogloss:0.06226\tvalidation_1-mlogloss:0.51030\n",
      "[158]\tvalidation_0-mlogloss:0.06181\tvalidation_1-mlogloss:0.50977\n",
      "[159]\tvalidation_0-mlogloss:0.06144\tvalidation_1-mlogloss:0.50941\n",
      "[160]\tvalidation_0-mlogloss:0.06112\tvalidation_1-mlogloss:0.50903\n",
      "[161]\tvalidation_0-mlogloss:0.06079\tvalidation_1-mlogloss:0.50884\n",
      "[162]\tvalidation_0-mlogloss:0.06046\tvalidation_1-mlogloss:0.50869\n",
      "[163]\tvalidation_0-mlogloss:0.06022\tvalidation_1-mlogloss:0.50853\n",
      "[164]\tvalidation_0-mlogloss:0.05994\tvalidation_1-mlogloss:0.50845\n",
      "[165]\tvalidation_0-mlogloss:0.05969\tvalidation_1-mlogloss:0.50835\n",
      "[166]\tvalidation_0-mlogloss:0.05946\tvalidation_1-mlogloss:0.50813\n",
      "[167]\tvalidation_0-mlogloss:0.05919\tvalidation_1-mlogloss:0.50788\n",
      "[168]\tvalidation_0-mlogloss:0.05895\tvalidation_1-mlogloss:0.50743\n",
      "[169]\tvalidation_0-mlogloss:0.05871\tvalidation_1-mlogloss:0.50731\n",
      "[170]\tvalidation_0-mlogloss:0.05843\tvalidation_1-mlogloss:0.50691\n",
      "[171]\tvalidation_0-mlogloss:0.05813\tvalidation_1-mlogloss:0.50694\n",
      "[172]\tvalidation_0-mlogloss:0.05782\tvalidation_1-mlogloss:0.50688\n",
      "[173]\tvalidation_0-mlogloss:0.05753\tvalidation_1-mlogloss:0.50672\n",
      "[174]\tvalidation_0-mlogloss:0.05730\tvalidation_1-mlogloss:0.50643\n",
      "[175]\tvalidation_0-mlogloss:0.05700\tvalidation_1-mlogloss:0.50628\n",
      "[176]\tvalidation_0-mlogloss:0.05687\tvalidation_1-mlogloss:0.50623\n",
      "[177]\tvalidation_0-mlogloss:0.05667\tvalidation_1-mlogloss:0.50615\n",
      "[178]\tvalidation_0-mlogloss:0.05657\tvalidation_1-mlogloss:0.50610\n",
      "[179]\tvalidation_0-mlogloss:0.05648\tvalidation_1-mlogloss:0.50617\n",
      "[180]\tvalidation_0-mlogloss:0.05637\tvalidation_1-mlogloss:0.50616\n",
      "[181]\tvalidation_0-mlogloss:0.05626\tvalidation_1-mlogloss:0.50604\n",
      "[182]\tvalidation_0-mlogloss:0.05626\tvalidation_1-mlogloss:0.50604\n",
      "[183]\tvalidation_0-mlogloss:0.05626\tvalidation_1-mlogloss:0.50604\n",
      "[184]\tvalidation_0-mlogloss:0.05626\tvalidation_1-mlogloss:0.50604\n",
      "[185]\tvalidation_0-mlogloss:0.05626\tvalidation_1-mlogloss:0.50604\n",
      "[186]\tvalidation_0-mlogloss:0.05626\tvalidation_1-mlogloss:0.50604\n",
      "[187]\tvalidation_0-mlogloss:0.05626\tvalidation_1-mlogloss:0.50604\n",
      "[188]\tvalidation_0-mlogloss:0.05626\tvalidation_1-mlogloss:0.50604\n",
      "[189]\tvalidation_0-mlogloss:0.05626\tvalidation_1-mlogloss:0.50604\n",
      "[190]\tvalidation_0-mlogloss:0.05626\tvalidation_1-mlogloss:0.50604\n",
      "[191]\tvalidation_0-mlogloss:0.05626\tvalidation_1-mlogloss:0.50604\n",
      "[192]\tvalidation_0-mlogloss:0.05626\tvalidation_1-mlogloss:0.50604\n",
      "[193]\tvalidation_0-mlogloss:0.05626\tvalidation_1-mlogloss:0.50604\n",
      "[194]\tvalidation_0-mlogloss:0.05626\tvalidation_1-mlogloss:0.50604\n",
      "[195]\tvalidation_0-mlogloss:0.05626\tvalidation_1-mlogloss:0.50604\n",
      "[196]\tvalidation_0-mlogloss:0.05626\tvalidation_1-mlogloss:0.50604\n",
      "[197]\tvalidation_0-mlogloss:0.05626\tvalidation_1-mlogloss:0.50604\n",
      "[198]\tvalidation_0-mlogloss:0.05626\tvalidation_1-mlogloss:0.50604\n",
      "[199]\tvalidation_0-mlogloss:0.05626\tvalidation_1-mlogloss:0.50604\n"
     ]
    },
    {
     "data": {
      "text/plain": [
       "XGBClassifier(alpha=10, base_score=0.5, booster='gbtree', colsample_bylevel=1,\n",
       "              colsample_bynode=1, colsample_bytree=0.8,\n",
       "              enable_categorical=False, gamma=0, gpu_id=-1,\n",
       "              importance_type=None, interaction_constraints='',\n",
       "              learning_rate=0.1, max_delta_step=0, max_depth=8,\n",
       "              min_child_weight=1, missing=nan, monotone_constraints='()',\n",
       "              n_estimators=200, n_jobs=16, n_threads=8, num_parallel_tree=1,\n",
       "              objective='multi:softprob', predictor='auto', random_state=0,\n",
       "              reg_alpha=10, reg_lambda=1, scale_pos_weight=None, subsample=1,\n",
       "              tree_method='exact', validate_parameters=1, ...)"
      ]
     },
     "execution_count": 7,
     "metadata": {},
     "output_type": "execute_result"
    }
   ],
   "source": [
    "#selected parameters\n",
    "params = {\n",
    "            'objective':'multi:softprob',\n",
    "            'max_depth': 8,\n",
    "            'learning_rate': 0.1,\n",
    "            'n_estimators':200,\n",
    "            'n_threads' : 8,\n",
    "            'colsample_bytree': 0.8,\n",
    "            'alpha': 10\n",
    "        }\n",
    "           \n",
    "# initialize the classifier \n",
    "xgb_clf = XGBClassifier(**params)\n",
    "\n",
    "#initialize data\n",
    "evaluation = [( X_train, y_train), ( X_val, y_val)]\n",
    "\n",
    "#fit the model\n",
    "xgb_clf.fit(X_train, y_train, eval_set=evaluation, eval_metric=\"mlogloss\", early_stopping_rounds=100, sample_weight = weight_matrix)"
   ]
  },
  {
   "cell_type": "markdown",
   "id": "3434e974",
   "metadata": {},
   "source": [
    "# check performance in validation data"
   ]
  },
  {
   "cell_type": "code",
   "execution_count": 8,
   "id": "2bf4c622",
   "metadata": {},
   "outputs": [
    {
     "name": "stdout",
     "output_type": "stream",
     "text": [
      "weighted f1 score  0.8080197601948824\n",
      "per classs f1 score  [0.84380306 0.86212361 0.33160622 0.83673469]\n",
      "confusion matrix \n",
      " [[497  20  64   3]\n",
      " [ 21 272   3  18]\n",
      " [ 58   2  32   0]\n",
      " [ 18  23   2 164]]\n",
      "cohen cappa score  0.7041888051402446\n"
     ]
    }
   ],
   "source": [
    "#make prediction\n",
    "y_pred = xgb_clf.predict(X_val)\n",
    "\n",
    "print('weighted f1 score ', f1_score(list(y_val), list(y_pred), average = 'weighted'))\n",
    "print('per classs f1 score ', f1_score(list(y_val), list(y_pred), average = None))\n",
    "print('confusion matrix \\n', confusion_matrix(list(y_val), list(y_pred)))\n",
    "print('cohen cappa score ', cohen_kappa_score(list(y_val), list(y_pred)))"
   ]
  },
  {
   "cell_type": "markdown",
   "id": "f9a3f481",
   "metadata": {},
   "source": [
    "# save model "
   ]
  },
  {
   "cell_type": "code",
   "execution_count": 9,
   "id": "2a0b022c",
   "metadata": {},
   "outputs": [
    {
     "data": {
      "text/plain": [
       "['model_final.pkl']"
      ]
     },
     "execution_count": 9,
     "metadata": {},
     "output_type": "execute_result"
    }
   ],
   "source": [
    "joblib.dump(xgb_clf, 'model_final.pkl')"
   ]
  },
  {
   "cell_type": "markdown",
   "id": "b9cdd972",
   "metadata": {},
   "source": [
    "# bacterias which are informative for the prediciton"
   ]
  },
  {
   "cell_type": "code",
   "execution_count": 10,
   "id": "f08c9d00",
   "metadata": {},
   "outputs": [
    {
     "name": "stdout",
     "output_type": "stream",
     "text": [
      "443\n"
     ]
    }
   ],
   "source": [
    "feature_important = xgb_clf.get_booster().get_score(importance_type='weight')\n",
    "keys = list(feature_important.keys())\n",
    "values = list(feature_important.values())\n",
    "\n",
    "data = pd.DataFrame(data=values, index=keys, columns=[\"score\"]).sort_values(by = \"score\", ascending=False)\n",
    "print(len(data))"
   ]
  },
  {
   "cell_type": "markdown",
   "id": "c991ae11",
   "metadata": {},
   "source": [
    "443 bacterias were deemed important by the model."
   ]
  },
  {
   "cell_type": "markdown",
   "id": "98fb39d9",
   "metadata": {},
   "source": [
    "# test data prediction"
   ]
  },
  {
   "cell_type": "code",
   "execution_count": 11,
   "id": "93eeacf7",
   "metadata": {},
   "outputs": [],
   "source": [
    "#read and process the test data the same way as train data\n",
    "\n",
    "df = pd.read_csv(\"Samplenormalized_test_data.csv\", index_col=False)\n",
    "X_test = df.iloc[:, 2:1096]\n",
    "Y_test = df.iloc[:, 1096]\n",
    "\n",
    "Y_test[Y_test == 'Healthy'] = 0\n",
    "Y_test[Y_test == 'Disease-1'] = 1\n",
    "Y_test[Y_test == 'Disease-2'] = 2\n",
    "Y_test[Y_test == 'Disease-3'] = 3"
   ]
  },
  {
   "cell_type": "code",
   "execution_count": 12,
   "id": "4191467f",
   "metadata": {},
   "outputs": [
    {
     "name": "stdout",
     "output_type": "stream",
     "text": [
      "weighted f1 score  0.7986608192335989\n",
      "per classs f1 score  [0.84245221 0.84387097 0.38135593 0.7887931 ]\n",
      "confusion matrix \n",
      " [[639  23  72  14]\n",
      " [ 37 327   2  24]\n",
      " [ 65   5  45   0]\n",
      " [ 28  30   2 183]]\n",
      "cohen cappa score  0.6873489657005085\n"
     ]
    }
   ],
   "source": [
    "model = joblib.load(\"model_file_name.pkl\")\n",
    "y_pred = model.predict(X_test)\n",
    "\n",
    "from sklearn.metrics import accuracy_score\n",
    "from sklearn.metrics import f1_score\n",
    "from sklearn.metrics import precision_recall_fscore_support\n",
    "from sklearn.metrics import cohen_kappa_score, confusion_matrix\n",
    "\n",
    "print('weighted f1 score ', f1_score(list(Y_test), list(y_pred), average = 'weighted'))\n",
    "print('per classs f1 score ', f1_score(list(Y_test), list(y_pred), average = None))\n",
    "print('confusion matrix \\n', confusion_matrix(list(Y_test), list(y_pred)))\n",
    "print('cohen cappa score ', cohen_kappa_score(list(Y_test), list(y_pred)))"
   ]
  },
  {
   "cell_type": "markdown",
   "id": "cee24d40",
   "metadata": {},
   "source": [
    "# differentially expressed bacteria"
   ]
  },
  {
   "cell_type": "code",
   "execution_count": 13,
   "id": "e695ddbc",
   "metadata": {},
   "outputs": [],
   "source": [
    "#reading the csv file created in R. need some string formating as R doesn't read hyphens\n",
    "diff_bacts = pd.read_csv('DEB_strictfiltered_training.csv')\n",
    "diff_bacts = list(diff_bacts.iloc[:,0])\n",
    "diff_bacts = ['Bacteria.' + bact.split('Bacteria.')[1] for bact in diff_bacts]"
   ]
  },
  {
   "cell_type": "markdown",
   "id": "213e53ca",
   "metadata": {},
   "source": [
    "### compare the differenetially enriched bacteria and bacteria found to be important by our xgboost model"
   ]
  },
  {
   "cell_type": "code",
   "execution_count": 14,
   "id": "8a228117",
   "metadata": {},
   "outputs": [
    {
     "name": "stdout",
     "output_type": "stream",
     "text": [
      "0\n"
     ]
    }
   ],
   "source": [
    "count = 0\n",
    "for bact in diff_bacts:\n",
    "    if bact not in keys:\n",
    "        count += 1\n",
    "        print('found a enriched bacteria that is not identified by the model')\n",
    "print(count)"
   ]
  },
  {
   "cell_type": "markdown",
   "id": "09a30b84",
   "metadata": {},
   "source": [
    "So all the bacteria found to be important by xgboost are enriched."
   ]
  },
  {
   "cell_type": "markdown",
   "id": "de77c76d",
   "metadata": {},
   "source": [
    "# What if we only use the enriched bacteria to train the model (6.5% data)?"
   ]
  },
  {
   "cell_type": "markdown",
   "id": "2a11e350",
   "metadata": {},
   "source": [
    "Now we see whether we can just use this statistically significant bacteria to train the model. The motivation is that if we find the bacteria which are required to classify between different classes it would reduce our screening space. Also it would reduce the complexity of the model."
   ]
  },
  {
   "cell_type": "code",
   "execution_count": 15,
   "id": "7deadd10",
   "metadata": {},
   "outputs": [
    {
     "name": "stdout",
     "output_type": "stream",
     "text": [
      "[07:09:27] WARNING: ../src/learner.cc:576: \n",
      "Parameters: { \"n_threads\" } might not be used.\n",
      "\n",
      "  This could be a false alarm, with some parameters getting used by language bindings but\n",
      "  then being mistakenly passed down to XGBoost core, or some parameter actually being used\n",
      "  but getting flagged wrongly here. Please open an issue if you find any such cases.\n",
      "\n",
      "\n",
      "[0]\tvalidation_0-mlogloss:1.35718\tvalidation_1-mlogloss:1.36592\n",
      "[1]\tvalidation_0-mlogloss:1.32904\tvalidation_1-mlogloss:1.34681\n",
      "[2]\tvalidation_0-mlogloss:1.30372\tvalidation_1-mlogloss:1.32913\n",
      "[3]\tvalidation_0-mlogloss:1.28186\tvalidation_1-mlogloss:1.31522\n",
      "[4]\tvalidation_0-mlogloss:1.26532\tvalidation_1-mlogloss:1.30696\n",
      "[5]\tvalidation_0-mlogloss:1.25234\tvalidation_1-mlogloss:1.29988\n",
      "[6]\tvalidation_0-mlogloss:1.23968\tvalidation_1-mlogloss:1.29336\n",
      "[7]\tvalidation_0-mlogloss:1.22308\tvalidation_1-mlogloss:1.28305\n",
      "[8]\tvalidation_0-mlogloss:1.20637\tvalidation_1-mlogloss:1.27371\n",
      "[9]\tvalidation_0-mlogloss:1.18973\tvalidation_1-mlogloss:1.26623\n",
      "[10]\tvalidation_0-mlogloss:1.17877\tvalidation_1-mlogloss:1.26030\n",
      "[11]\tvalidation_0-mlogloss:1.16878\tvalidation_1-mlogloss:1.25588\n",
      "[12]\tvalidation_0-mlogloss:1.15310\tvalidation_1-mlogloss:1.24909\n",
      "[13]\tvalidation_0-mlogloss:1.13069\tvalidation_1-mlogloss:1.23632\n",
      "[14]\tvalidation_0-mlogloss:1.11826\tvalidation_1-mlogloss:1.23126\n",
      "[15]\tvalidation_0-mlogloss:1.10123\tvalidation_1-mlogloss:1.22211\n",
      "[16]\tvalidation_0-mlogloss:1.09059\tvalidation_1-mlogloss:1.21542\n",
      "[17]\tvalidation_0-mlogloss:1.07608\tvalidation_1-mlogloss:1.20975\n",
      "[18]\tvalidation_0-mlogloss:1.05887\tvalidation_1-mlogloss:1.20166\n",
      "[19]\tvalidation_0-mlogloss:1.04490\tvalidation_1-mlogloss:1.19529\n",
      "[20]\tvalidation_0-mlogloss:1.02775\tvalidation_1-mlogloss:1.18680\n",
      "[21]\tvalidation_0-mlogloss:1.00591\tvalidation_1-mlogloss:1.17506\n",
      "[22]\tvalidation_0-mlogloss:0.98452\tvalidation_1-mlogloss:1.16374\n",
      "[23]\tvalidation_0-mlogloss:0.96549\tvalidation_1-mlogloss:1.15189\n",
      "[24]\tvalidation_0-mlogloss:0.95031\tvalidation_1-mlogloss:1.14258\n",
      "[25]\tvalidation_0-mlogloss:0.93566\tvalidation_1-mlogloss:1.13277\n",
      "[26]\tvalidation_0-mlogloss:0.91399\tvalidation_1-mlogloss:1.11984\n",
      "[27]\tvalidation_0-mlogloss:0.89206\tvalidation_1-mlogloss:1.10686\n",
      "[28]\tvalidation_0-mlogloss:0.87158\tvalidation_1-mlogloss:1.09716\n",
      "[29]\tvalidation_0-mlogloss:0.85728\tvalidation_1-mlogloss:1.08769\n",
      "[30]\tvalidation_0-mlogloss:0.84255\tvalidation_1-mlogloss:1.07911\n",
      "[31]\tvalidation_0-mlogloss:0.82705\tvalidation_1-mlogloss:1.07094\n",
      "[32]\tvalidation_0-mlogloss:0.81067\tvalidation_1-mlogloss:1.06202\n",
      "[33]\tvalidation_0-mlogloss:0.79605\tvalidation_1-mlogloss:1.05101\n",
      "[34]\tvalidation_0-mlogloss:0.78638\tvalidation_1-mlogloss:1.04516\n",
      "[35]\tvalidation_0-mlogloss:0.76788\tvalidation_1-mlogloss:1.03261\n",
      "[36]\tvalidation_0-mlogloss:0.75035\tvalidation_1-mlogloss:1.02193\n",
      "[37]\tvalidation_0-mlogloss:0.73745\tvalidation_1-mlogloss:1.01390\n",
      "[38]\tvalidation_0-mlogloss:0.72215\tvalidation_1-mlogloss:1.00382\n",
      "[39]\tvalidation_0-mlogloss:0.71046\tvalidation_1-mlogloss:0.99875\n",
      "[40]\tvalidation_0-mlogloss:0.69886\tvalidation_1-mlogloss:0.98964\n",
      "[41]\tvalidation_0-mlogloss:0.68425\tvalidation_1-mlogloss:0.98109\n",
      "[42]\tvalidation_0-mlogloss:0.67010\tvalidation_1-mlogloss:0.97238\n",
      "[43]\tvalidation_0-mlogloss:0.65705\tvalidation_1-mlogloss:0.96479\n",
      "[44]\tvalidation_0-mlogloss:0.64538\tvalidation_1-mlogloss:0.95726\n",
      "[45]\tvalidation_0-mlogloss:0.63507\tvalidation_1-mlogloss:0.95094\n",
      "[46]\tvalidation_0-mlogloss:0.62544\tvalidation_1-mlogloss:0.94507\n",
      "[47]\tvalidation_0-mlogloss:0.61447\tvalidation_1-mlogloss:0.93911\n",
      "[48]\tvalidation_0-mlogloss:0.60228\tvalidation_1-mlogloss:0.93159\n",
      "[49]\tvalidation_0-mlogloss:0.59074\tvalidation_1-mlogloss:0.92385\n",
      "[50]\tvalidation_0-mlogloss:0.57834\tvalidation_1-mlogloss:0.91785\n",
      "[51]\tvalidation_0-mlogloss:0.56860\tvalidation_1-mlogloss:0.91189\n",
      "[52]\tvalidation_0-mlogloss:0.55937\tvalidation_1-mlogloss:0.90666\n",
      "[53]\tvalidation_0-mlogloss:0.55155\tvalidation_1-mlogloss:0.90076\n",
      "[54]\tvalidation_0-mlogloss:0.54264\tvalidation_1-mlogloss:0.89422\n",
      "[55]\tvalidation_0-mlogloss:0.53139\tvalidation_1-mlogloss:0.88689\n",
      "[56]\tvalidation_0-mlogloss:0.52314\tvalidation_1-mlogloss:0.88168\n",
      "[57]\tvalidation_0-mlogloss:0.51406\tvalidation_1-mlogloss:0.87544\n",
      "[58]\tvalidation_0-mlogloss:0.50667\tvalidation_1-mlogloss:0.87087\n",
      "[59]\tvalidation_0-mlogloss:0.49762\tvalidation_1-mlogloss:0.86367\n",
      "[60]\tvalidation_0-mlogloss:0.48746\tvalidation_1-mlogloss:0.85697\n",
      "[61]\tvalidation_0-mlogloss:0.47845\tvalidation_1-mlogloss:0.85065\n",
      "[62]\tvalidation_0-mlogloss:0.47146\tvalidation_1-mlogloss:0.84649\n",
      "[63]\tvalidation_0-mlogloss:0.46404\tvalidation_1-mlogloss:0.84184\n",
      "[64]\tvalidation_0-mlogloss:0.45524\tvalidation_1-mlogloss:0.83510\n",
      "[65]\tvalidation_0-mlogloss:0.45001\tvalidation_1-mlogloss:0.83192\n",
      "[66]\tvalidation_0-mlogloss:0.44225\tvalidation_1-mlogloss:0.82737\n",
      "[67]\tvalidation_0-mlogloss:0.43478\tvalidation_1-mlogloss:0.82221\n",
      "[68]\tvalidation_0-mlogloss:0.42901\tvalidation_1-mlogloss:0.81959\n",
      "[69]\tvalidation_0-mlogloss:0.42140\tvalidation_1-mlogloss:0.81439\n",
      "[70]\tvalidation_0-mlogloss:0.41501\tvalidation_1-mlogloss:0.80998\n",
      "[71]\tvalidation_0-mlogloss:0.40931\tvalidation_1-mlogloss:0.80595\n",
      "[72]\tvalidation_0-mlogloss:0.40325\tvalidation_1-mlogloss:0.80220\n",
      "[73]\tvalidation_0-mlogloss:0.39674\tvalidation_1-mlogloss:0.79789\n",
      "[74]\tvalidation_0-mlogloss:0.39124\tvalidation_1-mlogloss:0.79463\n",
      "[75]\tvalidation_0-mlogloss:0.38434\tvalidation_1-mlogloss:0.79090\n",
      "[76]\tvalidation_0-mlogloss:0.37845\tvalidation_1-mlogloss:0.78736\n",
      "[77]\tvalidation_0-mlogloss:0.37199\tvalidation_1-mlogloss:0.78393\n",
      "[78]\tvalidation_0-mlogloss:0.36595\tvalidation_1-mlogloss:0.77986\n",
      "[79]\tvalidation_0-mlogloss:0.36073\tvalidation_1-mlogloss:0.77609\n",
      "[80]\tvalidation_0-mlogloss:0.35512\tvalidation_1-mlogloss:0.77219\n",
      "[81]\tvalidation_0-mlogloss:0.35029\tvalidation_1-mlogloss:0.76873\n",
      "[82]\tvalidation_0-mlogloss:0.34484\tvalidation_1-mlogloss:0.76469\n",
      "[83]\tvalidation_0-mlogloss:0.33850\tvalidation_1-mlogloss:0.76088\n",
      "[84]\tvalidation_0-mlogloss:0.33305\tvalidation_1-mlogloss:0.75757\n",
      "[85]\tvalidation_0-mlogloss:0.32770\tvalidation_1-mlogloss:0.75436\n",
      "[86]\tvalidation_0-mlogloss:0.32298\tvalidation_1-mlogloss:0.75140\n",
      "[87]\tvalidation_0-mlogloss:0.31807\tvalidation_1-mlogloss:0.74808\n",
      "[88]\tvalidation_0-mlogloss:0.31411\tvalidation_1-mlogloss:0.74542\n",
      "[89]\tvalidation_0-mlogloss:0.30976\tvalidation_1-mlogloss:0.74273\n",
      "[90]\tvalidation_0-mlogloss:0.30458\tvalidation_1-mlogloss:0.74008\n",
      "[91]\tvalidation_0-mlogloss:0.30126\tvalidation_1-mlogloss:0.73794\n",
      "[92]\tvalidation_0-mlogloss:0.29642\tvalidation_1-mlogloss:0.73474\n",
      "[93]\tvalidation_0-mlogloss:0.29177\tvalidation_1-mlogloss:0.73217\n",
      "[94]\tvalidation_0-mlogloss:0.28797\tvalidation_1-mlogloss:0.72976\n",
      "[95]\tvalidation_0-mlogloss:0.28366\tvalidation_1-mlogloss:0.72708\n",
      "[96]\tvalidation_0-mlogloss:0.27948\tvalidation_1-mlogloss:0.72505\n",
      "[97]\tvalidation_0-mlogloss:0.27456\tvalidation_1-mlogloss:0.72206\n",
      "[98]\tvalidation_0-mlogloss:0.26994\tvalidation_1-mlogloss:0.71944\n",
      "[99]\tvalidation_0-mlogloss:0.26514\tvalidation_1-mlogloss:0.71680\n",
      "[100]\tvalidation_0-mlogloss:0.26089\tvalidation_1-mlogloss:0.71383\n",
      "[101]\tvalidation_0-mlogloss:0.25719\tvalidation_1-mlogloss:0.71293\n",
      "[102]\tvalidation_0-mlogloss:0.25284\tvalidation_1-mlogloss:0.71027\n",
      "[103]\tvalidation_0-mlogloss:0.24986\tvalidation_1-mlogloss:0.70817\n",
      "[104]\tvalidation_0-mlogloss:0.24646\tvalidation_1-mlogloss:0.70644\n",
      "[105]\tvalidation_0-mlogloss:0.24288\tvalidation_1-mlogloss:0.70466\n",
      "[106]\tvalidation_0-mlogloss:0.23881\tvalidation_1-mlogloss:0.70253\n",
      "[107]\tvalidation_0-mlogloss:0.23512\tvalidation_1-mlogloss:0.70072\n",
      "[108]\tvalidation_0-mlogloss:0.23160\tvalidation_1-mlogloss:0.69874\n",
      "[109]\tvalidation_0-mlogloss:0.22790\tvalidation_1-mlogloss:0.69720\n",
      "[110]\tvalidation_0-mlogloss:0.22504\tvalidation_1-mlogloss:0.69532\n",
      "[111]\tvalidation_0-mlogloss:0.22215\tvalidation_1-mlogloss:0.69354\n",
      "[112]\tvalidation_0-mlogloss:0.21919\tvalidation_1-mlogloss:0.69227\n",
      "[113]\tvalidation_0-mlogloss:0.21655\tvalidation_1-mlogloss:0.69028\n",
      "[114]\tvalidation_0-mlogloss:0.21436\tvalidation_1-mlogloss:0.68852\n",
      "[115]\tvalidation_0-mlogloss:0.21163\tvalidation_1-mlogloss:0.68741\n",
      "[116]\tvalidation_0-mlogloss:0.20889\tvalidation_1-mlogloss:0.68586\n",
      "[117]\tvalidation_0-mlogloss:0.20697\tvalidation_1-mlogloss:0.68559\n",
      "[118]\tvalidation_0-mlogloss:0.20366\tvalidation_1-mlogloss:0.68414\n",
      "[119]\tvalidation_0-mlogloss:0.20084\tvalidation_1-mlogloss:0.68285\n",
      "[120]\tvalidation_0-mlogloss:0.19861\tvalidation_1-mlogloss:0.68210\n"
     ]
    },
    {
     "name": "stdout",
     "output_type": "stream",
     "text": [
      "[121]\tvalidation_0-mlogloss:0.19591\tvalidation_1-mlogloss:0.68054\n",
      "[122]\tvalidation_0-mlogloss:0.19351\tvalidation_1-mlogloss:0.67960\n",
      "[123]\tvalidation_0-mlogloss:0.19112\tvalidation_1-mlogloss:0.67847\n",
      "[124]\tvalidation_0-mlogloss:0.18867\tvalidation_1-mlogloss:0.67710\n",
      "[125]\tvalidation_0-mlogloss:0.18679\tvalidation_1-mlogloss:0.67652\n",
      "[126]\tvalidation_0-mlogloss:0.18460\tvalidation_1-mlogloss:0.67558\n",
      "[127]\tvalidation_0-mlogloss:0.18288\tvalidation_1-mlogloss:0.67513\n",
      "[128]\tvalidation_0-mlogloss:0.18069\tvalidation_1-mlogloss:0.67448\n",
      "[129]\tvalidation_0-mlogloss:0.17907\tvalidation_1-mlogloss:0.67367\n",
      "[130]\tvalidation_0-mlogloss:0.17672\tvalidation_1-mlogloss:0.67247\n",
      "[131]\tvalidation_0-mlogloss:0.17500\tvalidation_1-mlogloss:0.67145\n",
      "[132]\tvalidation_0-mlogloss:0.17332\tvalidation_1-mlogloss:0.67046\n",
      "[133]\tvalidation_0-mlogloss:0.17135\tvalidation_1-mlogloss:0.66910\n",
      "[134]\tvalidation_0-mlogloss:0.16955\tvalidation_1-mlogloss:0.66773\n",
      "[135]\tvalidation_0-mlogloss:0.16764\tvalidation_1-mlogloss:0.66732\n",
      "[136]\tvalidation_0-mlogloss:0.16588\tvalidation_1-mlogloss:0.66650\n",
      "[137]\tvalidation_0-mlogloss:0.16434\tvalidation_1-mlogloss:0.66572\n",
      "[138]\tvalidation_0-mlogloss:0.16309\tvalidation_1-mlogloss:0.66494\n",
      "[139]\tvalidation_0-mlogloss:0.16142\tvalidation_1-mlogloss:0.66387\n",
      "[140]\tvalidation_0-mlogloss:0.15951\tvalidation_1-mlogloss:0.66322\n",
      "[141]\tvalidation_0-mlogloss:0.15793\tvalidation_1-mlogloss:0.66264\n",
      "[142]\tvalidation_0-mlogloss:0.15596\tvalidation_1-mlogloss:0.66148\n",
      "[143]\tvalidation_0-mlogloss:0.15435\tvalidation_1-mlogloss:0.66076\n",
      "[144]\tvalidation_0-mlogloss:0.15266\tvalidation_1-mlogloss:0.65984\n",
      "[145]\tvalidation_0-mlogloss:0.15120\tvalidation_1-mlogloss:0.65918\n",
      "[146]\tvalidation_0-mlogloss:0.15005\tvalidation_1-mlogloss:0.65912\n",
      "[147]\tvalidation_0-mlogloss:0.14852\tvalidation_1-mlogloss:0.65809\n",
      "[148]\tvalidation_0-mlogloss:0.14720\tvalidation_1-mlogloss:0.65762\n",
      "[149]\tvalidation_0-mlogloss:0.14583\tvalidation_1-mlogloss:0.65646\n",
      "[150]\tvalidation_0-mlogloss:0.14434\tvalidation_1-mlogloss:0.65587\n",
      "[151]\tvalidation_0-mlogloss:0.14273\tvalidation_1-mlogloss:0.65555\n",
      "[152]\tvalidation_0-mlogloss:0.14144\tvalidation_1-mlogloss:0.65520\n",
      "[153]\tvalidation_0-mlogloss:0.14028\tvalidation_1-mlogloss:0.65468\n",
      "[154]\tvalidation_0-mlogloss:0.13912\tvalidation_1-mlogloss:0.65416\n",
      "[155]\tvalidation_0-mlogloss:0.13784\tvalidation_1-mlogloss:0.65406\n",
      "[156]\tvalidation_0-mlogloss:0.13670\tvalidation_1-mlogloss:0.65359\n",
      "[157]\tvalidation_0-mlogloss:0.13530\tvalidation_1-mlogloss:0.65325\n",
      "[158]\tvalidation_0-mlogloss:0.13413\tvalidation_1-mlogloss:0.65258\n",
      "[159]\tvalidation_0-mlogloss:0.13313\tvalidation_1-mlogloss:0.65211\n",
      "[160]\tvalidation_0-mlogloss:0.13204\tvalidation_1-mlogloss:0.65221\n",
      "[161]\tvalidation_0-mlogloss:0.13102\tvalidation_1-mlogloss:0.65192\n",
      "[162]\tvalidation_0-mlogloss:0.13000\tvalidation_1-mlogloss:0.65191\n",
      "[163]\tvalidation_0-mlogloss:0.12907\tvalidation_1-mlogloss:0.65175\n",
      "[164]\tvalidation_0-mlogloss:0.12803\tvalidation_1-mlogloss:0.65142\n",
      "[165]\tvalidation_0-mlogloss:0.12693\tvalidation_1-mlogloss:0.65099\n",
      "[166]\tvalidation_0-mlogloss:0.12602\tvalidation_1-mlogloss:0.65032\n",
      "[167]\tvalidation_0-mlogloss:0.12504\tvalidation_1-mlogloss:0.64997\n",
      "[168]\tvalidation_0-mlogloss:0.12395\tvalidation_1-mlogloss:0.64940\n",
      "[169]\tvalidation_0-mlogloss:0.12305\tvalidation_1-mlogloss:0.64901\n",
      "[170]\tvalidation_0-mlogloss:0.12235\tvalidation_1-mlogloss:0.64883\n",
      "[171]\tvalidation_0-mlogloss:0.12151\tvalidation_1-mlogloss:0.64857\n",
      "[172]\tvalidation_0-mlogloss:0.12086\tvalidation_1-mlogloss:0.64818\n",
      "[173]\tvalidation_0-mlogloss:0.12012\tvalidation_1-mlogloss:0.64789\n",
      "[174]\tvalidation_0-mlogloss:0.11946\tvalidation_1-mlogloss:0.64788\n",
      "[175]\tvalidation_0-mlogloss:0.11875\tvalidation_1-mlogloss:0.64819\n",
      "[176]\tvalidation_0-mlogloss:0.11791\tvalidation_1-mlogloss:0.64803\n",
      "[177]\tvalidation_0-mlogloss:0.11708\tvalidation_1-mlogloss:0.64776\n",
      "[178]\tvalidation_0-mlogloss:0.11625\tvalidation_1-mlogloss:0.64715\n",
      "[179]\tvalidation_0-mlogloss:0.11548\tvalidation_1-mlogloss:0.64700\n",
      "[180]\tvalidation_0-mlogloss:0.11463\tvalidation_1-mlogloss:0.64699\n",
      "[181]\tvalidation_0-mlogloss:0.11374\tvalidation_1-mlogloss:0.64685\n",
      "[182]\tvalidation_0-mlogloss:0.11281\tvalidation_1-mlogloss:0.64629\n",
      "[183]\tvalidation_0-mlogloss:0.11210\tvalidation_1-mlogloss:0.64658\n",
      "[184]\tvalidation_0-mlogloss:0.11136\tvalidation_1-mlogloss:0.64680\n",
      "[185]\tvalidation_0-mlogloss:0.11058\tvalidation_1-mlogloss:0.64669\n",
      "[186]\tvalidation_0-mlogloss:0.10980\tvalidation_1-mlogloss:0.64673\n",
      "[187]\tvalidation_0-mlogloss:0.10923\tvalidation_1-mlogloss:0.64634\n",
      "[188]\tvalidation_0-mlogloss:0.10851\tvalidation_1-mlogloss:0.64588\n",
      "[189]\tvalidation_0-mlogloss:0.10803\tvalidation_1-mlogloss:0.64603\n",
      "[190]\tvalidation_0-mlogloss:0.10740\tvalidation_1-mlogloss:0.64585\n",
      "[191]\tvalidation_0-mlogloss:0.10676\tvalidation_1-mlogloss:0.64561\n",
      "[192]\tvalidation_0-mlogloss:0.10624\tvalidation_1-mlogloss:0.64579\n",
      "[193]\tvalidation_0-mlogloss:0.10561\tvalidation_1-mlogloss:0.64585\n",
      "[194]\tvalidation_0-mlogloss:0.10502\tvalidation_1-mlogloss:0.64570\n",
      "[195]\tvalidation_0-mlogloss:0.10456\tvalidation_1-mlogloss:0.64543\n",
      "[196]\tvalidation_0-mlogloss:0.10405\tvalidation_1-mlogloss:0.64550\n",
      "[197]\tvalidation_0-mlogloss:0.10361\tvalidation_1-mlogloss:0.64559\n",
      "[198]\tvalidation_0-mlogloss:0.10323\tvalidation_1-mlogloss:0.64561\n",
      "[199]\tvalidation_0-mlogloss:0.10262\tvalidation_1-mlogloss:0.64571\n"
     ]
    }
   ],
   "source": [
    "df = pd.read_csv(\"Samplenormalized_train_data.csv\", index_col=False)\n",
    "X = df[diff_bacts]\n",
    "Y = df.iloc[:, 1096]\n",
    "\n",
    "# the weight for each class needs to be assigned to the samples individually in xgboost. So we create a weight matrix\n",
    "#that is the same length as samples in the train data\n",
    "convert_to_weight = {'0': w[0], '1': w[1], '2':w[2]*10, '3': w[3]}\n",
    "weight_matrix = [convert_to_weight[str(i)] for i in y_train]\n",
    "\n",
    "Y[Y == 'Healthy'] = 0\n",
    "Y[Y == 'Disease-1'] = 1\n",
    "Y[Y == 'Disease-2'] = 2\n",
    "Y[Y == 'Disease-3'] = 3\n",
    "\n",
    "#create data matrix\n",
    "import xgboost as xgb\n",
    "data_matrix = xgb.DMatrix(data = X, label = Y)\n",
    "\n",
    "# create train and validation split\n",
    "X_train, X_val, y_train, y_val = train_test_split(X, Y, test_size = 0.2, random_state = 0)\n",
    "\n",
    "\n",
    "#selected parameters\n",
    "params = {\n",
    "            'objective':'multi:softprob',\n",
    "            'max_depth': 8,\n",
    "            'learning_rate': 0.1,\n",
    "            'n_estimators':200,\n",
    "            'n_threads' : 8,\n",
    "            'colsample_bytree': 0.8,\n",
    "            'alpha': 10\n",
    "        }\n",
    "           \n",
    "# initialize the classifier \n",
    "xgb_clf = XGBClassifier(**params)\n",
    "\n",
    "#initialize data\n",
    "evaluation = [( X_train, y_train), ( X_val, y_val)]\n",
    "\n",
    "#fit the model\n",
    "xgb_clf.fit(X_train, y_train, eval_set=evaluation, eval_metric=\"mlogloss\", early_stopping_rounds=100, sample_weight = weight_matrix)\n",
    "\n",
    "#save model\n",
    "joblib.dump(xgb_clf, 'model_71_bacteria.pkl')\n",
    "\n",
    "#read test data and process\n",
    "df = pd.read_csv(\"Samplenormalized_test_data.csv\", index_col=False)\n",
    "X_test = df[diff_bacts]\n",
    "\n",
    "Y_test = df.iloc[:, 1096]\n",
    "\n",
    "Y_test[Y_test == 'Healthy'] = 0\n",
    "Y_test[Y_test == 'Disease-1'] = 1\n",
    "Y_test[Y_test == 'Disease-2'] = 2\n",
    "Y_test[Y_test == 'Disease-3'] = 3\n",
    "\n",
    "y_pred = xgb_clf.predict(X_test)"
   ]
  },
  {
   "cell_type": "code",
   "execution_count": 16,
   "id": "12e41713",
   "metadata": {},
   "outputs": [
    {
     "name": "stdout",
     "output_type": "stream",
     "text": [
      "weighted f1 score  0.7650351725094421\n",
      "per classs f1 score  [0.81421865 0.79377432 0.359375   0.75949367]\n",
      "confusion matrix \n",
      " [[607  39  87  15]\n",
      " [ 45 306   3  36]\n",
      " [ 65   4  46   0]\n",
      " [ 26  32   5 180]]\n",
      "cohen cappa score  0.6345261867059373\n"
     ]
    }
   ],
   "source": [
    "print('weighted f1 score ', f1_score(list(Y_test), list(y_pred), average = 'weighted'))\n",
    "print('per classs f1 score ', f1_score(list(Y_test), list(y_pred), average = None))\n",
    "print('confusion matrix \\n', confusion_matrix(list(Y_test), list(y_pred)))\n",
    "print('cohen cappa score ', cohen_kappa_score(list(Y_test), list(y_pred)))"
   ]
  },
  {
   "cell_type": "markdown",
   "id": "cee00989",
   "metadata": {},
   "source": [
    "### we have been able to achieve comparable performance using only 71 bacteria using differentially enrichment analysis"
   ]
  }
 ],
 "metadata": {
  "kernelspec": {
   "display_name": "Python 3 (ipykernel)",
   "language": "python",
   "name": "python3"
  },
  "language_info": {
   "codemirror_mode": {
    "name": "ipython",
    "version": 3
   },
   "file_extension": ".py",
   "mimetype": "text/x-python",
   "name": "python",
   "nbconvert_exporter": "python",
   "pygments_lexer": "ipython3",
   "version": "3.7.11"
  }
 },
 "nbformat": 4,
 "nbformat_minor": 5
}
